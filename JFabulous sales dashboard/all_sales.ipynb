{
 "cells": [
  {
   "attachments": {},
   "cell_type": "markdown",
   "metadata": {},
   "source": [
    "# JFAB"
   ]
  },
  {
   "cell_type": "code",
   "execution_count": 27,
   "metadata": {},
   "outputs": [],
   "source": [
    "import pandas as pd\n",
    "import numpy as np\n",
    "import os\n",
    "import seaborn as sns\n",
    "import matplotlib.pyplot as plt"
   ]
  },
  {
   "cell_type": "code",
   "execution_count": 36,
   "metadata": {},
   "outputs": [],
   "source": [
    "from PIL import Image"
   ]
  },
  {
   "cell_type": "markdown",
   "metadata": {},
   "source": [
    "df = pd.DataFrame()\n",
    "\n",
    "# get all combined excel files for all folders\n",
    "folder_path = r\"C:/Users/criss/iCloudDrive/Desktop/JFABULOUS 2022/Rutas\"\n",
    "for folder in os.listdir(folder_path):\n",
    "    if folder.endswith(\"xlsx\"):\n",
    "        continue\n",
    "    for file in os.listdir(folder_path + \"/\" + folder):\n",
    "        if file.endswith(\".xlsx\"):\n",
    "            name = os.path.join(folder_path, folder, file)\n",
    "            print(name)\n",
    "            df.append(pd.read_excel(name, sheet_name = \"Invoices\"), ignore_index = True)\n",
    "            \n"
   ]
  },
  {
   "cell_type": "code",
   "execution_count": 5,
   "metadata": {},
   "outputs": [],
   "source": [
    "#interim solution\n",
    "\n",
    "angelica = pd.read_excel(r\"C:/Users/criss/iCloudDrive/Desktop/JFABULOUS 2022/Rutas/Angelica Mota Shops/Angelica Mota Shops Combined.xlsx\", sheet_name = \"Invoices\")\n",
    "bb = pd.read_excel(r\"C:/Users/criss/iCloudDrive/Desktop/JFABULOUS 2022/Rutas\\B&B Spa\\B&B Spa Combined.xlsx\", sheet_name = \"Invoices\")\n",
    "high = pd.read_excel(r\"C:/Users/criss/iCloudDrive/Desktop/JFABULOUS 2022/Rutas\\Hair High Tech\\Hair High Tech Combined.xlsx\", sheet_name = \"Invoices\")\n",
    "ladore = pd.read_excel(r\"C:/Users/criss/iCloudDrive/Desktop/JFABULOUS 2022/Rutas\\Ladore Beauty Bar\\Ladore Beauty Salon Combined.xlsx\", sheet_name = \"Invoices\")\n",
    "lis = pd.read_excel(r\"C:/Users/criss/iCloudDrive/Desktop/JFABULOUS 2022/Rutas\\Lissys Salon Spa\\Lissys Salon Combined.xlsx\", sheet_name = \"Invoices\")"
   ]
  },
  {
   "cell_type": "code",
   "execution_count": 6,
   "metadata": {},
   "outputs": [
    {
     "data": {
      "text/plain": [
       "Index(['Source.Name', 'Location', 'Delivery Date', 'Collection Date', 'Ref',\n",
       "       'Item', 'category', 'Cost price $', 'Retail Price $', 'Resale Price $',\n",
       "       'Qty sold', 'Revenue $', 'Gross $', 'Cost of goods $', 'Net $'],\n",
       "      dtype='object')"
      ]
     },
     "execution_count": 6,
     "metadata": {},
     "output_type": "execute_result"
    }
   ],
   "source": [
    "sales = pd.concat([angelica, bb, high, ladore, lis]).drop(columns = [\"Qty\", \"Total $\", \"Unnamed: 17\", \"Qty left\"])\n",
    "sales.columns"
   ]
  },
  {
   "cell_type": "code",
   "execution_count": 13,
   "metadata": {},
   "outputs": [],
   "source": [
    "sales[\"month_year\"] = sales[\"Delivery Date\"].apply(lambda x: x.strftime(\"%b %y\"))"
   ]
  },
  {
   "cell_type": "code",
   "execution_count": 14,
   "metadata": {},
   "outputs": [
    {
     "data": {
      "text/html": [
       "<div>\n",
       "<style scoped>\n",
       "    .dataframe tbody tr th:only-of-type {\n",
       "        vertical-align: middle;\n",
       "    }\n",
       "\n",
       "    .dataframe tbody tr th {\n",
       "        vertical-align: top;\n",
       "    }\n",
       "\n",
       "    .dataframe thead th {\n",
       "        text-align: right;\n",
       "    }\n",
       "</style>\n",
       "<table border=\"1\" class=\"dataframe\">\n",
       "  <thead>\n",
       "    <tr style=\"text-align: right;\">\n",
       "      <th></th>\n",
       "      <th>Source.Name</th>\n",
       "      <th>Location</th>\n",
       "      <th>Delivery Date</th>\n",
       "      <th>Collection Date</th>\n",
       "      <th>Ref</th>\n",
       "      <th>Item</th>\n",
       "      <th>category</th>\n",
       "      <th>Cost price $</th>\n",
       "      <th>Retail Price $</th>\n",
       "      <th>Resale Price $</th>\n",
       "      <th>Qty sold</th>\n",
       "      <th>Revenue $</th>\n",
       "      <th>Gross $</th>\n",
       "      <th>Cost of goods $</th>\n",
       "      <th>Net $</th>\n",
       "      <th>month_year</th>\n",
       "    </tr>\n",
       "  </thead>\n",
       "  <tbody>\n",
       "    <tr>\n",
       "      <th>0</th>\n",
       "      <td>2022.08.18 Angelica Mota Shops.xlsx</td>\n",
       "      <td>Angelica Mota Shops</td>\n",
       "      <td>2022-08-18</td>\n",
       "      <td>44721</td>\n",
       "      <td>error</td>\n",
       "      <td>Collar</td>\n",
       "      <td>error</td>\n",
       "      <td>NaN</td>\n",
       "      <td>24</td>\n",
       "      <td>28.0</td>\n",
       "      <td>1</td>\n",
       "      <td>24</td>\n",
       "      <td>28.0</td>\n",
       "      <td>NaN</td>\n",
       "      <td>NaN</td>\n",
       "      <td>Aug 22</td>\n",
       "    </tr>\n",
       "    <tr>\n",
       "      <th>1</th>\n",
       "      <td>2022.08.18 Angelica Mota Shops.xlsx</td>\n",
       "      <td>Angelica Mota Shops</td>\n",
       "      <td>2022-08-18</td>\n",
       "      <td>44721</td>\n",
       "      <td>C-002</td>\n",
       "      <td>Collar Chocker</td>\n",
       "      <td>Collares</td>\n",
       "      <td>9.0</td>\n",
       "      <td>19</td>\n",
       "      <td>32.0</td>\n",
       "      <td>1</td>\n",
       "      <td>19</td>\n",
       "      <td>32.0</td>\n",
       "      <td>9.0</td>\n",
       "      <td>10.0</td>\n",
       "      <td>Aug 22</td>\n",
       "    </tr>\n",
       "    <tr>\n",
       "      <th>2</th>\n",
       "      <td>2022.08.18 Angelica Mota Shops.xlsx</td>\n",
       "      <td>Angelica Mota Shops</td>\n",
       "      <td>2022-08-18</td>\n",
       "      <td>44721</td>\n",
       "      <td>A-003</td>\n",
       "      <td>Arete de Larimar</td>\n",
       "      <td>Aretes</td>\n",
       "      <td>9.0</td>\n",
       "      <td>14</td>\n",
       "      <td>36.0</td>\n",
       "      <td>1</td>\n",
       "      <td>14</td>\n",
       "      <td>36.0</td>\n",
       "      <td>9.0</td>\n",
       "      <td>5.0</td>\n",
       "      <td>Aug 22</td>\n",
       "    </tr>\n",
       "    <tr>\n",
       "      <th>3</th>\n",
       "      <td>2022.09.06 Angelica Mota Shops.xlsx</td>\n",
       "      <td>Angelica Mota Shops</td>\n",
       "      <td>2022-06-09</td>\n",
       "      <td>44858</td>\n",
       "      <td>C-002</td>\n",
       "      <td>Collar Chocker</td>\n",
       "      <td>Collares</td>\n",
       "      <td>9.0</td>\n",
       "      <td>19</td>\n",
       "      <td>28.0</td>\n",
       "      <td>2</td>\n",
       "      <td>38</td>\n",
       "      <td>56.0</td>\n",
       "      <td>18.0</td>\n",
       "      <td>20.0</td>\n",
       "      <td>Jun 22</td>\n",
       "    </tr>\n",
       "    <tr>\n",
       "      <th>4</th>\n",
       "      <td>2022.09.06 Angelica Mota Shops.xlsx</td>\n",
       "      <td>Angelica Mota Shops</td>\n",
       "      <td>2022-06-09</td>\n",
       "      <td>44858</td>\n",
       "      <td>error</td>\n",
       "      <td>Collar</td>\n",
       "      <td>error</td>\n",
       "      <td>NaN</td>\n",
       "      <td>30</td>\n",
       "      <td>32.0</td>\n",
       "      <td>1</td>\n",
       "      <td>30</td>\n",
       "      <td>32.0</td>\n",
       "      <td>NaN</td>\n",
       "      <td>NaN</td>\n",
       "      <td>Jun 22</td>\n",
       "    </tr>\n",
       "    <tr>\n",
       "      <th>...</th>\n",
       "      <td>...</td>\n",
       "      <td>...</td>\n",
       "      <td>...</td>\n",
       "      <td>...</td>\n",
       "      <td>...</td>\n",
       "      <td>...</td>\n",
       "      <td>...</td>\n",
       "      <td>...</td>\n",
       "      <td>...</td>\n",
       "      <td>...</td>\n",
       "      <td>...</td>\n",
       "      <td>...</td>\n",
       "      <td>...</td>\n",
       "      <td>...</td>\n",
       "      <td>...</td>\n",
       "      <td>...</td>\n",
       "    </tr>\n",
       "    <tr>\n",
       "      <th>14</th>\n",
       "      <td>2022.11.14 Lissys Salon Spa.xlsx</td>\n",
       "      <td>Lissys Salon Spa</td>\n",
       "      <td>2022-11-14</td>\n",
       "      <td>2022-12-14 00:00:00</td>\n",
       "      <td>S-001</td>\n",
       "      <td>Sets de Plata</td>\n",
       "      <td>Sets</td>\n",
       "      <td>15.0</td>\n",
       "      <td>29</td>\n",
       "      <td>38.0</td>\n",
       "      <td>1</td>\n",
       "      <td>29</td>\n",
       "      <td>38.0</td>\n",
       "      <td>15.0</td>\n",
       "      <td>14.0</td>\n",
       "      <td>Nov 22</td>\n",
       "    </tr>\n",
       "    <tr>\n",
       "      <th>15</th>\n",
       "      <td>2022.12.12 Lissys Salon Spa.xlsx</td>\n",
       "      <td>Lissys Salon Spa</td>\n",
       "      <td>2022-12-12</td>\n",
       "      <td>2023-01-23 00:00:00</td>\n",
       "      <td>C-001</td>\n",
       "      <td>Cadena</td>\n",
       "      <td>Collares</td>\n",
       "      <td>12.0</td>\n",
       "      <td>22</td>\n",
       "      <td>28.0</td>\n",
       "      <td>2</td>\n",
       "      <td>44</td>\n",
       "      <td>56.0</td>\n",
       "      <td>24.0</td>\n",
       "      <td>20.0</td>\n",
       "      <td>Dec 22</td>\n",
       "    </tr>\n",
       "    <tr>\n",
       "      <th>16</th>\n",
       "      <td>2022.12.12 Lissys Salon Spa.xlsx</td>\n",
       "      <td>Lissys Salon Spa</td>\n",
       "      <td>2022-12-12</td>\n",
       "      <td>2023-01-23 00:00:00</td>\n",
       "      <td>G-005</td>\n",
       "      <td>Pulsas de Colores</td>\n",
       "      <td>Pulseras</td>\n",
       "      <td>2.0</td>\n",
       "      <td>10</td>\n",
       "      <td>13.0</td>\n",
       "      <td>1</td>\n",
       "      <td>10</td>\n",
       "      <td>13.0</td>\n",
       "      <td>2.0</td>\n",
       "      <td>8.0</td>\n",
       "      <td>Dec 22</td>\n",
       "    </tr>\n",
       "    <tr>\n",
       "      <th>17</th>\n",
       "      <td>2022.12.12 Lissys Salon Spa.xlsx</td>\n",
       "      <td>Lissys Salon Spa</td>\n",
       "      <td>2022-12-12</td>\n",
       "      <td>2023-01-23 00:00:00</td>\n",
       "      <td>G-008</td>\n",
       "      <td>Pulsas de plata</td>\n",
       "      <td>Pulseras</td>\n",
       "      <td>9.0</td>\n",
       "      <td>15</td>\n",
       "      <td>20.0</td>\n",
       "      <td>2</td>\n",
       "      <td>30</td>\n",
       "      <td>40.0</td>\n",
       "      <td>18.0</td>\n",
       "      <td>12.0</td>\n",
       "      <td>Dec 22</td>\n",
       "    </tr>\n",
       "    <tr>\n",
       "      <th>18</th>\n",
       "      <td>2022.12.12 Lissys Salon Spa.xlsx</td>\n",
       "      <td>Lissys Salon Spa</td>\n",
       "      <td>2022-12-12</td>\n",
       "      <td>2023-01-23 00:00:00</td>\n",
       "      <td>A-011</td>\n",
       "      <td>Arete Piedra</td>\n",
       "      <td>Aretes</td>\n",
       "      <td>7.0</td>\n",
       "      <td>15</td>\n",
       "      <td>20.0</td>\n",
       "      <td>1</td>\n",
       "      <td>15</td>\n",
       "      <td>20.0</td>\n",
       "      <td>7.0</td>\n",
       "      <td>8.0</td>\n",
       "      <td>Dec 22</td>\n",
       "    </tr>\n",
       "  </tbody>\n",
       "</table>\n",
       "<p>149 rows × 16 columns</p>\n",
       "</div>"
      ],
      "text/plain": [
       "                            Source.Name             Location Delivery Date  \\\n",
       "0   2022.08.18 Angelica Mota Shops.xlsx  Angelica Mota Shops    2022-08-18   \n",
       "1   2022.08.18 Angelica Mota Shops.xlsx  Angelica Mota Shops    2022-08-18   \n",
       "2   2022.08.18 Angelica Mota Shops.xlsx  Angelica Mota Shops    2022-08-18   \n",
       "3   2022.09.06 Angelica Mota Shops.xlsx  Angelica Mota Shops    2022-06-09   \n",
       "4   2022.09.06 Angelica Mota Shops.xlsx  Angelica Mota Shops    2022-06-09   \n",
       "..                                  ...                  ...           ...   \n",
       "14     2022.11.14 Lissys Salon Spa.xlsx     Lissys Salon Spa    2022-11-14   \n",
       "15     2022.12.12 Lissys Salon Spa.xlsx     Lissys Salon Spa    2022-12-12   \n",
       "16     2022.12.12 Lissys Salon Spa.xlsx     Lissys Salon Spa    2022-12-12   \n",
       "17     2022.12.12 Lissys Salon Spa.xlsx     Lissys Salon Spa    2022-12-12   \n",
       "18     2022.12.12 Lissys Salon Spa.xlsx     Lissys Salon Spa    2022-12-12   \n",
       "\n",
       "        Collection Date    Ref               Item  category  Cost price $  \\\n",
       "0                 44721  error             Collar     error           NaN   \n",
       "1                 44721  C-002     Collar Chocker  Collares           9.0   \n",
       "2                 44721  A-003   Arete de Larimar    Aretes           9.0   \n",
       "3                 44858  C-002     Collar Chocker  Collares           9.0   \n",
       "4                 44858  error             Collar     error           NaN   \n",
       "..                  ...    ...                ...       ...           ...   \n",
       "14  2022-12-14 00:00:00  S-001      Sets de Plata      Sets          15.0   \n",
       "15  2023-01-23 00:00:00  C-001             Cadena  Collares          12.0   \n",
       "16  2023-01-23 00:00:00  G-005  Pulsas de Colores  Pulseras           2.0   \n",
       "17  2023-01-23 00:00:00  G-008    Pulsas de plata  Pulseras           9.0   \n",
       "18  2023-01-23 00:00:00  A-011       Arete Piedra    Aretes           7.0   \n",
       "\n",
       "    Retail Price $  Resale Price $  Qty sold  Revenue $  Gross $  \\\n",
       "0               24            28.0         1         24     28.0   \n",
       "1               19            32.0         1         19     32.0   \n",
       "2               14            36.0         1         14     36.0   \n",
       "3               19            28.0         2         38     56.0   \n",
       "4               30            32.0         1         30     32.0   \n",
       "..             ...             ...       ...        ...      ...   \n",
       "14              29            38.0         1         29     38.0   \n",
       "15              22            28.0         2         44     56.0   \n",
       "16              10            13.0         1         10     13.0   \n",
       "17              15            20.0         2         30     40.0   \n",
       "18              15            20.0         1         15     20.0   \n",
       "\n",
       "    Cost of goods $  Net $ month_year  \n",
       "0               NaN    NaN     Aug 22  \n",
       "1               9.0   10.0     Aug 22  \n",
       "2               9.0    5.0     Aug 22  \n",
       "3              18.0   20.0     Jun 22  \n",
       "4               NaN    NaN     Jun 22  \n",
       "..              ...    ...        ...  \n",
       "14             15.0   14.0     Nov 22  \n",
       "15             24.0   20.0     Dec 22  \n",
       "16              2.0    8.0     Dec 22  \n",
       "17             18.0   12.0     Dec 22  \n",
       "18              7.0    8.0     Dec 22  \n",
       "\n",
       "[149 rows x 16 columns]"
      ]
     },
     "execution_count": 14,
     "metadata": {},
     "output_type": "execute_result"
    }
   ],
   "source": [
    "sales"
   ]
  },
  {
   "cell_type": "code",
   "execution_count": 10,
   "metadata": {},
   "outputs": [
    {
     "data": {
      "text/plain": [
       "Source.Name                object\n",
       "Location                   object\n",
       "Delivery Date      datetime64[ns]\n",
       "Collection Date            object\n",
       "Ref                        object\n",
       "Item                       object\n",
       "category                   object\n",
       "Cost price $              float64\n",
       "Retail Price $              int64\n",
       "Resale Price $            float64\n",
       "Qty sold                    int64\n",
       "Revenue $                   int64\n",
       "Gross $                   float64\n",
       "Cost of goods $           float64\n",
       "Net $                     float64\n",
       "dtype: object"
      ]
     },
     "execution_count": 10,
     "metadata": {},
     "output_type": "execute_result"
    }
   ],
   "source": [
    "sales.dtypes"
   ]
  },
  {
   "cell_type": "code",
   "execution_count": 7,
   "metadata": {},
   "outputs": [
    {
     "data": {
      "text/plain": [
       "Location\n",
       "Angelica Mota Shops     468\n",
       "B&B Spa                 932\n",
       "Hair High Tech         1293\n",
       "Ladore Beauty Salon     771\n",
       "Lissys Salon Spa        547\n",
       "Name: Revenue $, dtype: int64"
      ]
     },
     "execution_count": 7,
     "metadata": {},
     "output_type": "execute_result"
    }
   ],
   "source": [
    "sales.groupby(\"Location\")[\"Revenue $\"].sum()"
   ]
  },
  {
   "cell_type": "code",
   "execution_count": 35,
   "metadata": {},
   "outputs": [
    {
     "data": {
      "text/plain": [
       "Text(0, 0.5, 'Revenue $')"
      ]
     },
     "execution_count": 35,
     "metadata": {},
     "output_type": "execute_result"
    },
    {
     "data": {
      "image/png": "[encoded data removed]",
      "text/plain": [
       "<Figure size 1152x576 with 1 Axes>"
      ]
     },
     "metadata": {
      "needs_background": "light"
     },
     "output_type": "display_data"
    }
   ],
   "source": [
    "fig, ax = plt.subplots(figsize =(16, 8))\n",
    "plt.bar(sales[\"month_year\"], sales[\"Revenue $\"])\n",
    "ax.set_ylabel(\"Revenue $\")\n",
    "plt.show()\n",
    "\n",
    "#sns.barplot(data = sales, x = \"month_year\", y = \"Revenue $\")"
   ]
  },
  {
   "cell_type": "code",
   "execution_count": null,
   "metadata": {},
   "outputs": [],
   "source": []
  }
 ],
 "metadata": {
  "kernelspec": {
   "display_name": "base",
   "language": "python",
   "name": "python3"
  },
  "language_info": {
   "codemirror_mode": {
    "name": "ipython",
    "version": 3
   },
   "file_extension": ".py",
   "mimetype": "text/x-python",
   "name": "python",
   "nbconvert_exporter": "python",
   "pygments_lexer": "ipython3",
   "version": "3.8.8"
  },
  "orig_nbformat": 4,
  "vscode": {
   "interpreter": {
    "hash": "73c4db1304eb314e02390d31031cb01bdb17227574282924698408917fe106fd"
   }
  }
 },
 "nbformat": 4,
 "nbformat_minor": 2
}
