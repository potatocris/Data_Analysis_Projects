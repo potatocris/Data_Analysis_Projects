{
 "cells": [
  {
   "cell_type": "code",
   "execution_count": 1,
   "metadata": {},
   "outputs": [],
   "source": [
    "import pandas\n",
    "import numpy\n",
    "from bs4 import BeautifulSoup as bs\n",
    "import requests "
   ]
  },
  {
   "attachments": {},
   "cell_type": "markdown",
   "metadata": {},
   "source": [
    "HTML Notes\n",
    "- tr: table row\n",
    "- th: table header\n",
    "- td: table data"
   ]
  },
  {
   "attachments": {},
   "cell_type": "markdown",
   "metadata": {},
   "source": [
    "# look through each moview"
   ]
  },
  {
   "cell_type": "code",
   "execution_count": 2,
   "metadata": {},
   "outputs": [],
   "source": [
    "def get_c(row_data):\n",
    "    if row_data.find(\"li\"):\n",
    "        return [li.get_text(\" \", strip = True).replace(\"\\xa0\", \"\") for li in row_data.find_all(\"li\")]\n",
    "    else:\n",
    "        return row_data.get_text(\" \", strip = True).replace(\"\\xa0\", \"\")"
   ]
  },
  {
   "cell_type": "code",
   "execution_count": 49,
   "metadata": {},
   "outputs": [],
   "source": [
    "def get_content_value(row_data):\n",
    "    if row_data.find(\"li\"):\n",
    "        return [li.get_text(\" \", strip = True).replace(\"\\xa0\", \"\") for li in row_data.find_all(\"li\")]\n",
    "    else:\n",
    "        return row_data.get_text(\" \", strip = True).replace(\"\\xa0\", \"\")"
   ]
  },
  {
   "cell_type": "code",
   "execution_count": 50,
   "metadata": {},
   "outputs": [],
   "source": [
    "def get_info_box(url):\n",
    "\n",
    "    r = requests.get(url)\n",
    "\n",
    "    soup = bs(r.content)\n",
    "    info_box = soup.find(class_ = \"infobox vevent\")\n",
    "    info_rows = info_box.find_all(\"tr\")\n",
    "\n",
    "\n",
    "    movie_info = {}\n",
    "    #get relevant values\n",
    "    for index, row in enumerate(info_rows):\n",
    "        if index == 0:\n",
    "            movie_info[\"title\"] = row.find(\"th\").get_text(\" \", strip = True)\n",
    "\n",
    "        elif index == 1:\n",
    "            continue\n",
    "        else:\n",
    "            content_key = row.find(\"th\").get_text(\" \", strip = True)\n",
    "            content_value = get_content_value(row.find(\"td\"))\n",
    "\n",
    "            movie_info[content_key] = content_value\n",
    "    return movie_info"
   ]
  },
  {
   "cell_type": "code",
   "execution_count": 38,
   "metadata": {},
   "outputs": [
    {
     "name": "stdout",
     "output_type": "stream",
     "text": [
      "566\n"
     ]
    }
   ],
   "source": [
    "\n",
    "# Get url linka nd movie titles from wikipedia\n",
    "movies_url = requests.get(\"https://en.wikipedia.org/wiki/List_of_Walt_Disney_Pictures_films\")\n",
    "movies_soup = bs(movies_url.content)\n",
    "movies = movies_soup.select(\".wikitable.sortable i a\") #\n",
    "\n",
    "print(len(movies))"
   ]
  },
  {
   "cell_type": "code",
   "execution_count": 33,
   "metadata": {},
   "outputs": [
    {
     "data": {
      "text/plain": [
       "<a href=\"/wiki/Snow_White_and_the_Seven_Dwarfs_(1937_film)\" title=\"Snow White and the Seven Dwarfs (1937 film)\">Snow White and the Seven Dwarfs</a>"
      ]
     },
     "execution_count": 33,
     "metadata": {},
     "output_type": "execute_result"
    }
   ],
   "source": [
    "movies[0]"
   ]
  },
  {
   "cell_type": "code",
   "execution_count": 53,
   "metadata": {},
   "outputs": [
    {
     "name": "stdout",
     "output_type": "stream",
     "text": [
      "'NoneType' object has no attribute 'find'\n",
      "Zorro the Avenger\n",
      "'NoneType' object has no attribute 'find'\n",
      "The Sign of Zorro\n",
      "'NoneType' object has no attribute 'find'\n",
      "Mighty Ducks the Movie: The First Face-Off\n",
      "'NoneType' object has no attribute 'get_text'\n",
      "Spirited Away\n",
      "'NoneType' object has no attribute 'get_text'\n",
      "Howl's Moving Castle\n",
      "'NoneType' object has no attribute 'get_text'\n",
      "The Nightmare Before Christmas 3D\n",
      "'NoneType' object has no attribute 'get_text'\n",
      "The Secret of the Magic Gourd\n",
      "'NoneType' object has no attribute 'get_text'\n",
      "Ponyo\n",
      "'NoneType' object has no attribute 'get_text'\n",
      "Tales from Earthsea\n",
      "'NoneType' object has no attribute 'get_text'\n",
      "Anaganaga O Dheerudu\n",
      "'NoneType' object has no attribute 'get_text'\n",
      "The Secret World of Arrietty\n",
      "'NoneType' object has no attribute 'get_text'\n",
      "Tini: The Movie\n",
      "'NoneType' object has no attribute 'get_text'\n",
      "Born in China\n",
      "'NoneType' object has no attribute 'find'\n",
      "The Beatles: Get Back – The Rooftop Concert\n",
      "'NoneType' object has no attribute 'find_all'\n",
      "Elio\n",
      "'NoneType' object has no attribute 'find_all'\n",
      "61\n",
      "'NoneType' object has no attribute 'find'\n",
      "All Night Long\n",
      "'NoneType' object has no attribute 'find_all'\n",
      "Big Thunder Mountain Railroad\n",
      "'NoneType' object has no attribute 'find_all'\n",
      "Keeper of the Lost Cities\n",
      "'NoneType' object has no attribute 'find_all'\n",
      "Muppet Man\n",
      "'NoneType' object has no attribute 'find_all'\n",
      "One Thousand and One Nights\n",
      "'NoneType' object has no attribute 'find'\n",
      "Shrunk\n",
      "'NoneType' object has no attribute 'find'\n",
      "Sister Act 3\n",
      "'NoneType' object has no attribute 'find_all'\n",
      "Space Mountain\n",
      "'NoneType' object has no attribute 'find_all'\n",
      "The Graveyard Book\n",
      "'NoneType' object has no attribute 'find_all'\n",
      "The Thief\n",
      "'NoneType' object has no attribute 'find_all'\n",
      "Tom Sawyer\n",
      "'NoneType' object has no attribute 'find_all'\n",
      "Tower of Terror\n",
      "'NoneType' object has no attribute 'find'\n",
      "Tron: Ares\n",
      "'NoneType' object has no attribute 'find'\n",
      "Toy Story\n",
      "'NoneType' object has no attribute 'find_all'\n",
      "Figment\n",
      "'NoneType' object has no attribute 'find'\n",
      "Frozen\n"
     ]
    }
   ],
   "source": [
    "base_path = \"https://en.wikipedia.org/\"\n",
    "\n",
    "movie_info_List = []\n",
    "\n",
    "\n",
    "for index, movie in enumerate(movies):\n",
    "    try:\n",
    "        #get url links for each movie\n",
    "        relative_path = movie[\"href\"]\n",
    "        full_path = base_path + relative_path\n",
    "        title = movie[\"title\"]\n",
    "\n",
    "        movie_info_List.append(get_info_box(full_path))\n",
    "    except Exception as e:\n",
    "        print(e)\n",
    "        print(movie.get_text())"
   ]
  },
  {
   "cell_type": "code",
   "execution_count": 54,
   "metadata": {},
   "outputs": [
    {
     "data": {
      "text/plain": [
       "534"
      ]
     },
     "execution_count": 54,
     "metadata": {},
     "output_type": "execute_result"
    }
   ],
   "source": [
    "len(movie_info_List)"
   ]
  },
  {
   "cell_type": "code",
   "execution_count": 52,
   "metadata": {},
   "outputs": [
    {
     "data": {
      "text/plain": [
       "[{'title': 'Snow White and the Seven Dwarfs',\n",
       "  'Directed by': ['David Hand',\n",
       "   'Perce Pearce',\n",
       "   'William Cottrell',\n",
       "   'Larry Morey',\n",
       "   'Wilfred Jackson',\n",
       "   'Ben Sharpsteen'],\n",
       "  'Story by': ['Ted Sears',\n",
       "   'Richard Creedon',\n",
       "   'Otto Englander',\n",
       "   'Dick Rickard',\n",
       "   'Earl Hurd',\n",
       "   'Merrill De Maris',\n",
       "   'Dorothy Ann Blank',\n",
       "   'Webb Smith'],\n",
       "  'Based on': 'Snow White by the Brothers Grimm',\n",
       "  'Produced by': 'Walt Disney',\n",
       "  'Starring': ['Adriana Caselotti',\n",
       "   'Roy Atwell',\n",
       "   'Pinto Colvig',\n",
       "   'Otis Harlan',\n",
       "   'Scotty Mattraw',\n",
       "   'Billy Gilbert',\n",
       "   'Eddie Collins'],\n",
       "  'Music by': ['Frank Churchill', 'Leigh Harline', 'Paul Smith'],\n",
       "  'Production company': 'Walt Disney Productions',\n",
       "  'Distributed by': 'RKO Radio Pictures',\n",
       "  'Release dates': ['December21,1937 ( 1937-12-21 ) ( Carthay Circle Theatre )',\n",
       "   'February4,1938 ( 1938-02-04 ) (United States)'],\n",
       "  'Running time': '83 minutes',\n",
       "  'Country': 'United States',\n",
       "  'Language': 'English',\n",
       "  'Budget': '$1.5 million [1]',\n",
       "  'Box office': '$418 million [2]'},\n",
       " {'title': 'Pinocchio',\n",
       "  'Directed by': ['Ben Sharpsteen',\n",
       "   'Hamilton Luske',\n",
       "   'Bill Roberts',\n",
       "   'Norman Ferguson',\n",
       "   'Jack Kinney',\n",
       "   'Wilfred Jackson',\n",
       "   'T. Hee'],\n",
       "  'Story by': ['Ted Sears',\n",
       "   'Otto Englander',\n",
       "   'Webb Smith',\n",
       "   'William Cottrell',\n",
       "   'Joseph Sabo',\n",
       "   'Erdman Penner',\n",
       "   'Aurelius Battaglia'],\n",
       "  'Based on': 'The Adventures of Pinocchio by Carlo Collodi',\n",
       "  'Produced by': 'Walt Disney',\n",
       "  'Starring': ['Cliff Edwards',\n",
       "   'Dickie Jones',\n",
       "   'Christian Rub',\n",
       "   'Walter Catlett',\n",
       "   'Charles Judels',\n",
       "   'Evelyn Venable',\n",
       "   'Frankie Darro'],\n",
       "  'Music by': ['Leigh Harline', 'Paul J. Smith'],\n",
       "  'Production company': 'Walt Disney Productions',\n",
       "  'Distributed by': 'RKO Radio Pictures',\n",
       "  'Release dates': ['February7,1940 ( 1940-02-07 ) ( Center Theatre ) [1]',\n",
       "   'February23,1940 ( 1940-02-23 ) (United States) [2]'],\n",
       "  'Running time': '88 minutes',\n",
       "  'Country': 'United States',\n",
       "  'Language': 'English',\n",
       "  'Budget': '$2.6 million [3]',\n",
       "  'Box office': '$164million'},\n",
       " {'title': 'Fantasia',\n",
       "  'Directed by': ['Samuel Armstrong',\n",
       "   'James Algar',\n",
       "   'Bill Roberts',\n",
       "   'Paul Satterfield',\n",
       "   'Ben Sharpsteen',\n",
       "   'David D. Hand',\n",
       "   'Hamilton Luske',\n",
       "   'Jim Handley',\n",
       "   'Ford Beebe',\n",
       "   'T. Hee',\n",
       "   'Norman Ferguson',\n",
       "   'Wilfred Jackson'],\n",
       "  'Story by': ['Joe Grant', 'Dick Huemer'],\n",
       "  'Produced by': ['Walt Disney', 'Ben Sharpsteen'],\n",
       "  'Starring': ['Leopold Stokowski', 'Deems Taylor'],\n",
       "  'Narrated by': 'Deems Taylor',\n",
       "  'Cinematography': 'James Wong Howe',\n",
       "  'Music by': 'See program',\n",
       "  'Production company': 'Walt Disney Productions',\n",
       "  'Distributed by': 'RKO Radio Pictures',\n",
       "  'Release date': ['November13,1940 ( 1940-11-13 )'],\n",
       "  'Running time': '126 minutes [1]',\n",
       "  'Country': 'United States',\n",
       "  'Language': 'English',\n",
       "  'Budget': '$2.28 million [2] [3]',\n",
       "  'Box office': '$76.4–$83.3 million (United States and Canada) [4] [5]'},\n",
       " {'title': 'The Reluctant Dragon',\n",
       "  'Directed by': 'Alfred Werker (live action) Hamilton Luske (animation) Jack Cutting , Ub Iwerks , Jack Kinney (sequence directors)',\n",
       "  'Written by': 'Live-action: Ted Sears Al Perkins Larry Clemmons Bill Cottrell Harry Clork Robert Benchley The Reluctant Dragon segment: Kenneth Grahame (original book) Erdman Penner T. Hee Baby Weems segment: Joe Grant Dick Huemer John Miller',\n",
       "  'Produced by': 'Walt Disney',\n",
       "  'Starring': 'Robert Benchley Frances Gifford Buddy Pepper Nana Bryant',\n",
       "  'Cinematography': 'Bert Glennon',\n",
       "  'Edited by': 'Paul Weatherwax',\n",
       "  'Music by': 'Frank Churchill Larry Morey',\n",
       "  'Production company': 'Walt Disney Productions',\n",
       "  'Distributed by': 'RKO Radio Pictures',\n",
       "  'Release date': ['June27,1941 ( 1941-06-27 ) [1]'],\n",
       "  'Running time': '74 minutes',\n",
       "  'Country': 'United States',\n",
       "  'Language': 'English',\n",
       "  'Budget': '$600,000 [2]',\n",
       "  'Box office': '$960,000 (worldwide rentals) [3]'},\n",
       " {'title': 'Dumbo',\n",
       "  'Directed by': ['Ben Sharpsteen',\n",
       "   'Norman Ferguson',\n",
       "   'Wilfred Jackson',\n",
       "   'Bill Roberts',\n",
       "   'Jack Kinney',\n",
       "   'Samuel Armstrong'],\n",
       "  'Story by': ['Joe Grant', 'Dick Huemer'],\n",
       "  'Based on': 'Dumbo, the Flying Elephant by Helen Aberson Harold Pearl',\n",
       "  'Produced by': 'Walt Disney',\n",
       "  'Starring': ['Edward Brophy',\n",
       "   'Verna Felton',\n",
       "   'Cliff Edwards',\n",
       "   'Herman Bing',\n",
       "   'Sterling Holloway',\n",
       "   'Margaret Wright',\n",
       "   'Hall Johnson Choir'],\n",
       "  'Narrated by': 'John McLeish',\n",
       "  'Music by': 'Frank Churchill Oliver Wallace',\n",
       "  'Production company': 'Walt Disney Productions',\n",
       "  'Distributed by': 'RKO Radio Pictures',\n",
       "  'Release dates': ['October23,1941 ( 1941-10-23 ) (New York City) [1]',\n",
       "   'October31,1941 ( 1941-10-31 ) (U.S.)'],\n",
       "  'Running time': '64 minutes',\n",
       "  'Country': 'United States',\n",
       "  'Language': 'English',\n",
       "  'Budget': '$950,000 [2]',\n",
       "  'Box office': '>$1.3 million (est. United States/Canada rentals, 1941) [3]'}]"
      ]
     },
     "execution_count": 52,
     "metadata": {},
     "output_type": "execute_result"
    }
   ],
   "source": [
    "movie_info_List"
   ]
  },
  {
   "attachments": {},
   "cell_type": "markdown",
   "metadata": {},
   "source": [
    "## Save data"
   ]
  },
  {
   "cell_type": "code",
   "execution_count": 55,
   "metadata": {},
   "outputs": [],
   "source": [
    "#python dictionaries work well with Json\n",
    "import json"
   ]
  },
  {
   "cell_type": "code",
   "execution_count": 62,
   "metadata": {},
   "outputs": [],
   "source": [
    "def save_data(title, data):\n",
    "    with open(title, 'w', encoding = \"utf-8\") as f:\n",
    "        json.dump(data, f, ensure_ascii = False, indent= 2)"
   ]
  },
  {
   "cell_type": "code",
   "execution_count": 57,
   "metadata": {},
   "outputs": [],
   "source": [
    "def load_data(title):\n",
    "              with open(title, encoding = \"utf-8\") as f:\n",
    "                return(json.load(f))"
   ]
  },
  {
   "cell_type": "code",
   "execution_count": 63,
   "metadata": {},
   "outputs": [],
   "source": [
    "save_data(\"disney_data.json\", movie_info_List)"
   ]
  },
  {
   "cell_type": "code",
   "execution_count": null,
   "metadata": {},
   "outputs": [],
   "source": []
  }
 ],
 "metadata": {
  "kernelspec": {
   "display_name": "base",
   "language": "python",
   "name": "python3"
  },
  "language_info": {
   "codemirror_mode": {
    "name": "ipython",
    "version": 3
   },
   "file_extension": ".py",
   "mimetype": "text/x-python",
   "name": "python",
   "nbconvert_exporter": "python",
   "pygments_lexer": "ipython3",
   "version": "3.10.9"
  },
  "orig_nbformat": 4
 },
 "nbformat": 4,
 "nbformat_minor": 2
}
