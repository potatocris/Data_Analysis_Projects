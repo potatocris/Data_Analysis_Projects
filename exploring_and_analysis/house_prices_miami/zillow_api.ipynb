{
 "cells": [
  {
   "cell_type": "code",
   "execution_count": 3,
   "metadata": {},
   "outputs": [],
   "source": [
    "import pandas as pd\n",
    "import requests\n",
    "import json"
   ]
  },
  {
   "cell_type": "code",
   "execution_count": null,
   "metadata": {},
   "outputs": [],
   "source": [
    "api_key = \"c3191ce6-e2ba-4173-8852-d3f596d83b2f\"\n",
    "\n",
    "# / Set your API key and listing URL\n",
    "api_key = \"c3191ce6-e2ba-4173-8852-d3f596d83b2f\"  # CHANGE WITH YOUR API KEY\n",
    "listing_url = \"https://www.zillow.com/homes/for_rent/?searchQueryState=%7B%22isMapVisible%22%3Atrue%2C%22mapBounds%22%3A%7B%22north%22%3A26.029862158631865%2C%22south%22%3A25.52283961067647%2C%22east%22%3A-79.98412425390624%2C%22west%22%3A-80.78749949804687%7D%2C%22filterState%22%3A%7B%22fr%22%3A%7B%22value%22%3Atrue%7D%2C%22fsba%22%3A%7B%22value%22%3Afalse%7D%2C%22fsbo%22%3A%7B%22value%22%3Afalse%7D%2C%22nc%22%3A%7B%22value%22%3Afalse%7D%2C%22cmsn%22%3A%7B%22value%22%3Afalse%7D%2C%22auc%22%3A%7B%22value%22%3Afalse%7D%2C%22fore%22%3A%7B%22value%22%3Afalse%7D%2C%22ah%22%3A%7B%22value%22%3Atrue%7D%2C%22beds%22%3A%7B%22min%22%3A2%7D%7D%2C%22isListVisible%22%3Atrue%2C%22mapZoom%22%3A11%2C%22usersSearchTerm%22%3A%22Miami%20FL%22%7D\"\n",
    "\n",
    "# / API endpoint and default headers\n",
    "api_url = \"https://app.scrapeak.com/v1/scrapers/zillow/listing\"\n",
    "\n",
    "parameters = {\"api_key\": api_key, \"url\": listing_url}\n",
    "\n",
    "# / Make the API request\n",
    "response = requests.get(api_url, params=parameters)\n",
    "response_content = response.json()\n",
    "\n",
    "\n",
    "#save the file\n",
    "with open(\"zillow_output.json\", \"w\") as json_file:\n",
    "    json.dump(response_content, json_file, indent=4)\n",
    "    \n",
    "    \n",
    "pd.set_option(\"display.max_colwidth\", None)\n",
    "with open(\"zillow_output.json\", \"r\") as json_file:\n",
    "    data = json.load(json_file)\n"
   ]
  },
  {
   "cell_type": "code",
   "execution_count": 4,
   "metadata": {},
   "outputs": [
    {
     "data": {
      "text/plain": [
       "True"
      ]
     },
     "execution_count": 4,
     "metadata": {},
     "output_type": "execute_result"
    }
   ],
   "source": [
    "data[\"is_success\"]"
   ]
  },
  {
   "cell_type": "code",
   "execution_count": 5,
   "metadata": {},
   "outputs": [
    {
     "data": {
      "text/plain": [
       "{'baseUrl': '/homes/for_rent/',\n",
       " 'windowTitle': 'Rental Listings - 6908 Rentals | Zillow',\n",
       " 'metaDescription': \"This is a list of all of the rental listings. Don't forget to use the filters and set up a saved search.\"}"
      ]
     },
     "execution_count": 5,
     "metadata": {},
     "output_type": "execute_result"
    }
   ],
   "source": [
    "data[\"data\"][\"searchPageSeoObject\"]"
   ]
  },
  {
   "cell_type": "code",
   "execution_count": 6,
   "metadata": {},
   "outputs": [],
   "source": [
    "rent_data = data[\"data\"][\"cat1\"][\"searchResults\"][\"listResults\"]\n",
    "df = pd.DataFrame(rent_data)"
   ]
  },
  {
   "cell_type": "code",
   "execution_count": 8,
   "metadata": {},
   "outputs": [
    {
     "data": {
      "text/plain": [
       "Index(['zpid', 'id', 'lotId', 'imgSrc', 'hasImage', 'carouselPhotos',\n",
       "       'statusType', 'statusText', 'detailUrl', 'latLong', 'units',\n",
       "       'variableData', 'badgeInfo', 'buildingName', 'isBuilding', 'address',\n",
       "       'addressStreet', 'addressState', 'addressCity', 'addressZipcode',\n",
       "       'providerListingId', 'availabilityCount', 'canSaveBuilding',\n",
       "       'has3DModel', 'isFeaturedListing', 'isShowcaseListing', 'isSaved',\n",
       "       'list', 'relaxed', 'countryCurrency', 'price', 'unformattedPrice',\n",
       "       'isUndisclosedAddress', 'beds', 'baths', 'area', 'isZillowOwned',\n",
       "       'hdpData', 'isUserClaimingOwner', 'isUserConfirmedClaim', 'pgapt',\n",
       "       'sgapt', 'zestimate', 'shouldShowZestimateAsPrice', 'hasVideo',\n",
       "       'isHomeRec', 'hasAdditionalAttributions', 'availabilityDate'],\n",
       "      dtype='object')"
      ]
     },
     "execution_count": 8,
     "metadata": {},
     "output_type": "execute_result"
    }
   ],
   "source": [
    "df.columns\n"
   ]
  },
  {
   "cell_type": "code",
   "execution_count": 10,
   "metadata": {},
   "outputs": [
    {
     "name": "stdout",
     "output_type": "stream",
     "text": [
      "<class 'pandas.core.frame.DataFrame'>\n",
      "RangeIndex: 41 entries, 0 to 40\n",
      "Data columns (total 48 columns):\n",
      " #   Column                      Non-Null Count  Dtype  \n",
      "---  ------                      --------------  -----  \n",
      " 0   zpid                        41 non-null     object \n",
      " 1   id                          41 non-null     object \n",
      " 2   lotId                       39 non-null     float64\n",
      " 3   imgSrc                      41 non-null     object \n",
      " 4   hasImage                    41 non-null     bool   \n",
      " 5   carouselPhotos              41 non-null     object \n",
      " 6   statusType                  41 non-null     object \n",
      " 7   statusText                  41 non-null     object \n",
      " 8   detailUrl                   41 non-null     object \n",
      " 9   latLong                     41 non-null     object \n",
      " 10  units                       39 non-null     object \n",
      " 11  variableData                41 non-null     object \n",
      " 12  badgeInfo                   14 non-null     object \n",
      " 13  buildingName                39 non-null     object \n",
      " 14  isBuilding                  39 non-null     object \n",
      " 15  address                     41 non-null     object \n",
      " 16  addressStreet               41 non-null     object \n",
      " 17  addressState                41 non-null     object \n",
      " 18  addressCity                 41 non-null     object \n",
      " 19  addressZipcode              41 non-null     object \n",
      " 20  providerListingId           41 non-null     object \n",
      " 21  availabilityCount           39 non-null     float64\n",
      " 22  canSaveBuilding             39 non-null     object \n",
      " 23  has3DModel                  41 non-null     bool   \n",
      " 24  isFeaturedListing           41 non-null     bool   \n",
      " 25  isShowcaseListing           41 non-null     bool   \n",
      " 26  isSaved                     41 non-null     bool   \n",
      " 27  list                        41 non-null     bool   \n",
      " 28  relaxed                     41 non-null     bool   \n",
      " 29  countryCurrency             2 non-null      object \n",
      " 30  price                       2 non-null      object \n",
      " 31  unformattedPrice            2 non-null      float64\n",
      " 32  isUndisclosedAddress        2 non-null      object \n",
      " 33  beds                        2 non-null      float64\n",
      " 34  baths                       2 non-null      float64\n",
      " 35  area                        1 non-null      float64\n",
      " 36  isZillowOwned               2 non-null      object \n",
      " 37  hdpData                     2 non-null      object \n",
      " 38  isUserClaimingOwner         2 non-null      object \n",
      " 39  isUserConfirmedClaim        2 non-null      object \n",
      " 40  pgapt                       2 non-null      object \n",
      " 41  sgapt                       2 non-null      object \n",
      " 42  zestimate                   0 non-null      float64\n",
      " 43  shouldShowZestimateAsPrice  2 non-null      object \n",
      " 44  hasVideo                    2 non-null      object \n",
      " 45  isHomeRec                   2 non-null      object \n",
      " 46  hasAdditionalAttributions   2 non-null      object \n",
      " 47  availabilityDate            1 non-null      object \n",
      "dtypes: bool(7), float64(7), object(34)\n",
      "memory usage: 13.5+ KB\n"
     ]
    }
   ],
   "source": [
    "df.info()"
   ]
  },
  {
   "cell_type": "code",
   "execution_count": 9,
   "metadata": {},
   "outputs": [
    {
     "data": {
      "text/plain": [
       "zpid                           0\n",
       "id                             0\n",
       "lotId                          2\n",
       "imgSrc                         0\n",
       "hasImage                       0\n",
       "carouselPhotos                 0\n",
       "statusType                     0\n",
       "statusText                     0\n",
       "detailUrl                      0\n",
       "latLong                        0\n",
       "units                          2\n",
       "variableData                   0\n",
       "badgeInfo                     27\n",
       "buildingName                   2\n",
       "isBuilding                     2\n",
       "address                        0\n",
       "addressStreet                  0\n",
       "addressState                   0\n",
       "addressCity                    0\n",
       "addressZipcode                 0\n",
       "providerListingId              0\n",
       "availabilityCount              2\n",
       "canSaveBuilding                2\n",
       "has3DModel                     0\n",
       "isFeaturedListing              0\n",
       "isShowcaseListing              0\n",
       "isSaved                        0\n",
       "list                           0\n",
       "relaxed                        0\n",
       "countryCurrency               39\n",
       "price                         39\n",
       "unformattedPrice              39\n",
       "isUndisclosedAddress          39\n",
       "beds                          39\n",
       "baths                         39\n",
       "area                          40\n",
       "isZillowOwned                 39\n",
       "hdpData                       39\n",
       "isUserClaimingOwner           39\n",
       "isUserConfirmedClaim          39\n",
       "pgapt                         39\n",
       "sgapt                         39\n",
       "zestimate                     41\n",
       "shouldShowZestimateAsPrice    39\n",
       "hasVideo                      39\n",
       "isHomeRec                     39\n",
       "hasAdditionalAttributions     39\n",
       "availabilityDate              40\n",
       "dtype: int64"
      ]
     },
     "execution_count": 9,
     "metadata": {},
     "output_type": "execute_result"
    }
   ],
   "source": [
    "df.isna().sum()"
   ]
  },
  {
   "cell_type": "code",
   "execution_count": 11,
   "metadata": {},
   "outputs": [],
   "source": [
    "df = df.drop(columns=[\"imgSrc\", \"hasImage\", \"carouselPhotos\"])"
   ]
  },
  {
   "cell_type": "code",
   "execution_count": 12,
   "metadata": {},
   "outputs": [
    {
     "ename": "ArrowNotImplementedError",
     "evalue": "Cannot write struct type 'listing_sub_type' with no child field to Parquet. Consider adding a dummy child field.",
     "output_type": "error",
     "traceback": [
      "\u001b[1;31m---------------------------------------------------------------------------\u001b[0m",
      "\u001b[1;31mArrowNotImplementedError\u001b[0m                  Traceback (most recent call last)",
      "\u001b[1;32mc:\\Users\\criss\\OneDrive\\Documents\\Learning\\GitHub\\DA\\exploring_and_analysis\\house_prices_miami\\zillow_api.ipynb Cell 14\u001b[0m line \u001b[0;36m1\n\u001b[1;32m----> <a href='vscode-notebook-cell:/c%3A/Users/criss/OneDrive/Documents/Learning/GitHub/DA/exploring_and_analysis/house_prices_miami/zillow_api.ipynb#X21sZmlsZQ%3D%3D?line=0'>1</a>\u001b[0m df\u001b[39m.\u001b[39;49mto_parquet(\u001b[39m\"\u001b[39;49m\u001b[39mZillo_data.parquet\u001b[39;49m\u001b[39m\"\u001b[39;49m, index\u001b[39m=\u001b[39;49m \u001b[39mFalse\u001b[39;49;00m)\n",
      "File \u001b[1;32mc:\\Users\\criss\\anaconda3\\lib\\site-packages\\pandas\\core\\frame.py:2889\u001b[0m, in \u001b[0;36mDataFrame.to_parquet\u001b[1;34m(self, path, engine, compression, index, partition_cols, storage_options, **kwargs)\u001b[0m\n\u001b[0;32m   2802\u001b[0m \u001b[39m\u001b[39m\u001b[39m\"\"\"\u001b[39;00m\n\u001b[0;32m   2803\u001b[0m \u001b[39mWrite a DataFrame to the binary parquet format.\u001b[39;00m\n\u001b[0;32m   2804\u001b[0m \n\u001b[1;32m   (...)\u001b[0m\n\u001b[0;32m   2885\u001b[0m \u001b[39m>>> content = f.read()\u001b[39;00m\n\u001b[0;32m   2886\u001b[0m \u001b[39m\"\"\"\u001b[39;00m\n\u001b[0;32m   2887\u001b[0m \u001b[39mfrom\u001b[39;00m \u001b[39mpandas\u001b[39;00m\u001b[39m.\u001b[39;00m\u001b[39mio\u001b[39;00m\u001b[39m.\u001b[39;00m\u001b[39mparquet\u001b[39;00m \u001b[39mimport\u001b[39;00m to_parquet\n\u001b[1;32m-> 2889\u001b[0m \u001b[39mreturn\u001b[39;00m to_parquet(\n\u001b[0;32m   2890\u001b[0m     \u001b[39mself\u001b[39m,\n\u001b[0;32m   2891\u001b[0m     path,\n\u001b[0;32m   2892\u001b[0m     engine,\n\u001b[0;32m   2893\u001b[0m     compression\u001b[39m=\u001b[39mcompression,\n\u001b[0;32m   2894\u001b[0m     index\u001b[39m=\u001b[39mindex,\n\u001b[0;32m   2895\u001b[0m     partition_cols\u001b[39m=\u001b[39mpartition_cols,\n\u001b[0;32m   2896\u001b[0m     storage_options\u001b[39m=\u001b[39mstorage_options,\n\u001b[0;32m   2897\u001b[0m     \u001b[39m*\u001b[39m\u001b[39m*\u001b[39mkwargs,\n\u001b[0;32m   2898\u001b[0m )\n",
      "File \u001b[1;32mc:\\Users\\criss\\anaconda3\\lib\\site-packages\\pandas\\io\\parquet.py:411\u001b[0m, in \u001b[0;36mto_parquet\u001b[1;34m(df, path, engine, compression, index, storage_options, partition_cols, **kwargs)\u001b[0m\n\u001b[0;32m    407\u001b[0m impl \u001b[39m=\u001b[39m get_engine(engine)\n\u001b[0;32m    409\u001b[0m path_or_buf: FilePath \u001b[39m|\u001b[39m WriteBuffer[\u001b[39mbytes\u001b[39m] \u001b[39m=\u001b[39m io\u001b[39m.\u001b[39mBytesIO() \u001b[39mif\u001b[39;00m path \u001b[39mis\u001b[39;00m \u001b[39mNone\u001b[39;00m \u001b[39melse\u001b[39;00m path\n\u001b[1;32m--> 411\u001b[0m impl\u001b[39m.\u001b[39mwrite(\n\u001b[0;32m    412\u001b[0m     df,\n\u001b[0;32m    413\u001b[0m     path_or_buf,\n\u001b[0;32m    414\u001b[0m     compression\u001b[39m=\u001b[39mcompression,\n\u001b[0;32m    415\u001b[0m     index\u001b[39m=\u001b[39mindex,\n\u001b[0;32m    416\u001b[0m     partition_cols\u001b[39m=\u001b[39mpartition_cols,\n\u001b[0;32m    417\u001b[0m     storage_options\u001b[39m=\u001b[39mstorage_options,\n\u001b[0;32m    418\u001b[0m     \u001b[39m*\u001b[39m\u001b[39m*\u001b[39mkwargs,\n\u001b[0;32m    419\u001b[0m )\n\u001b[0;32m    421\u001b[0m \u001b[39mif\u001b[39;00m path \u001b[39mis\u001b[39;00m \u001b[39mNone\u001b[39;00m:\n\u001b[0;32m    422\u001b[0m     \u001b[39massert\u001b[39;00m \u001b[39misinstance\u001b[39m(path_or_buf, io\u001b[39m.\u001b[39mBytesIO)\n",
      "File \u001b[1;32mc:\\Users\\criss\\anaconda3\\lib\\site-packages\\pandas\\io\\parquet.py:189\u001b[0m, in \u001b[0;36mPyArrowImpl.write\u001b[1;34m(self, df, path, compression, index, storage_options, partition_cols, **kwargs)\u001b[0m\n\u001b[0;32m    180\u001b[0m         \u001b[39mself\u001b[39m\u001b[39m.\u001b[39mapi\u001b[39m.\u001b[39mparquet\u001b[39m.\u001b[39mwrite_to_dataset(\n\u001b[0;32m    181\u001b[0m             table,\n\u001b[0;32m    182\u001b[0m             path_or_handle,\n\u001b[1;32m   (...)\u001b[0m\n\u001b[0;32m    185\u001b[0m             \u001b[39m*\u001b[39m\u001b[39m*\u001b[39mkwargs,\n\u001b[0;32m    186\u001b[0m         )\n\u001b[0;32m    187\u001b[0m     \u001b[39melse\u001b[39;00m:\n\u001b[0;32m    188\u001b[0m         \u001b[39m# write to single output file\u001b[39;00m\n\u001b[1;32m--> 189\u001b[0m         \u001b[39mself\u001b[39m\u001b[39m.\u001b[39mapi\u001b[39m.\u001b[39mparquet\u001b[39m.\u001b[39mwrite_table(\n\u001b[0;32m    190\u001b[0m             table, path_or_handle, compression\u001b[39m=\u001b[39mcompression, \u001b[39m*\u001b[39m\u001b[39m*\u001b[39mkwargs\n\u001b[0;32m    191\u001b[0m         )\n\u001b[0;32m    192\u001b[0m \u001b[39mfinally\u001b[39;00m:\n\u001b[0;32m    193\u001b[0m     \u001b[39mif\u001b[39;00m handles \u001b[39mis\u001b[39;00m \u001b[39mnot\u001b[39;00m \u001b[39mNone\u001b[39;00m:\n",
      "File \u001b[1;32mc:\\Users\\criss\\anaconda3\\lib\\site-packages\\pyarrow\\parquet\\core.py:3084\u001b[0m, in \u001b[0;36mwrite_table\u001b[1;34m(table, where, row_group_size, version, use_dictionary, compression, write_statistics, use_deprecated_int96_timestamps, coerce_timestamps, allow_truncated_timestamps, data_page_size, flavor, filesystem, compression_level, use_byte_stream_split, column_encoding, data_page_version, use_compliant_nested_type, encryption_properties, write_batch_size, dictionary_pagesize_limit, store_schema, **kwargs)\u001b[0m\n\u001b[0;32m   3082\u001b[0m use_int96 \u001b[39m=\u001b[39m use_deprecated_int96_timestamps\n\u001b[0;32m   3083\u001b[0m \u001b[39mtry\u001b[39;00m:\n\u001b[1;32m-> 3084\u001b[0m     \u001b[39mwith\u001b[39;00m ParquetWriter(\n\u001b[0;32m   3085\u001b[0m             where, table\u001b[39m.\u001b[39mschema,\n\u001b[0;32m   3086\u001b[0m             filesystem\u001b[39m=\u001b[39mfilesystem,\n\u001b[0;32m   3087\u001b[0m             version\u001b[39m=\u001b[39mversion,\n\u001b[0;32m   3088\u001b[0m             flavor\u001b[39m=\u001b[39mflavor,\n\u001b[0;32m   3089\u001b[0m             use_dictionary\u001b[39m=\u001b[39muse_dictionary,\n\u001b[0;32m   3090\u001b[0m             write_statistics\u001b[39m=\u001b[39mwrite_statistics,\n\u001b[0;32m   3091\u001b[0m             coerce_timestamps\u001b[39m=\u001b[39mcoerce_timestamps,\n\u001b[0;32m   3092\u001b[0m             data_page_size\u001b[39m=\u001b[39mdata_page_size,\n\u001b[0;32m   3093\u001b[0m             allow_truncated_timestamps\u001b[39m=\u001b[39mallow_truncated_timestamps,\n\u001b[0;32m   3094\u001b[0m             compression\u001b[39m=\u001b[39mcompression,\n\u001b[0;32m   3095\u001b[0m             use_deprecated_int96_timestamps\u001b[39m=\u001b[39muse_int96,\n\u001b[0;32m   3096\u001b[0m             compression_level\u001b[39m=\u001b[39mcompression_level,\n\u001b[0;32m   3097\u001b[0m             use_byte_stream_split\u001b[39m=\u001b[39muse_byte_stream_split,\n\u001b[0;32m   3098\u001b[0m             column_encoding\u001b[39m=\u001b[39mcolumn_encoding,\n\u001b[0;32m   3099\u001b[0m             data_page_version\u001b[39m=\u001b[39mdata_page_version,\n\u001b[0;32m   3100\u001b[0m             use_compliant_nested_type\u001b[39m=\u001b[39muse_compliant_nested_type,\n\u001b[0;32m   3101\u001b[0m             encryption_properties\u001b[39m=\u001b[39mencryption_properties,\n\u001b[0;32m   3102\u001b[0m             write_batch_size\u001b[39m=\u001b[39mwrite_batch_size,\n\u001b[0;32m   3103\u001b[0m             dictionary_pagesize_limit\u001b[39m=\u001b[39mdictionary_pagesize_limit,\n\u001b[0;32m   3104\u001b[0m             store_schema\u001b[39m=\u001b[39mstore_schema,\n\u001b[0;32m   3105\u001b[0m             \u001b[39m*\u001b[39m\u001b[39m*\u001b[39mkwargs) \u001b[39mas\u001b[39;00m writer:\n\u001b[0;32m   3106\u001b[0m         writer\u001b[39m.\u001b[39mwrite_table(table, row_group_size\u001b[39m=\u001b[39mrow_group_size)\n\u001b[0;32m   3107\u001b[0m \u001b[39mexcept\u001b[39;00m \u001b[39mException\u001b[39;00m:\n",
      "File \u001b[1;32mc:\\Users\\criss\\anaconda3\\lib\\site-packages\\pyarrow\\parquet\\core.py:1001\u001b[0m, in \u001b[0;36mParquetWriter.__init__\u001b[1;34m(self, where, schema, filesystem, flavor, version, use_dictionary, compression, write_statistics, use_deprecated_int96_timestamps, compression_level, use_byte_stream_split, column_encoding, writer_engine_version, data_page_version, use_compliant_nested_type, encryption_properties, write_batch_size, dictionary_pagesize_limit, store_schema, **options)\u001b[0m\n\u001b[0;32m    999\u001b[0m \u001b[39mself\u001b[39m\u001b[39m.\u001b[39m_metadata_collector \u001b[39m=\u001b[39m options\u001b[39m.\u001b[39mpop(\u001b[39m'\u001b[39m\u001b[39mmetadata_collector\u001b[39m\u001b[39m'\u001b[39m, \u001b[39mNone\u001b[39;00m)\n\u001b[0;32m   1000\u001b[0m engine_version \u001b[39m=\u001b[39m \u001b[39m'\u001b[39m\u001b[39mV2\u001b[39m\u001b[39m'\u001b[39m\n\u001b[1;32m-> 1001\u001b[0m \u001b[39mself\u001b[39m\u001b[39m.\u001b[39mwriter \u001b[39m=\u001b[39m _parquet\u001b[39m.\u001b[39mParquetWriter(\n\u001b[0;32m   1002\u001b[0m     sink, schema,\n\u001b[0;32m   1003\u001b[0m     version\u001b[39m=\u001b[39mversion,\n\u001b[0;32m   1004\u001b[0m     compression\u001b[39m=\u001b[39mcompression,\n\u001b[0;32m   1005\u001b[0m     use_dictionary\u001b[39m=\u001b[39muse_dictionary,\n\u001b[0;32m   1006\u001b[0m     write_statistics\u001b[39m=\u001b[39mwrite_statistics,\n\u001b[0;32m   1007\u001b[0m     use_deprecated_int96_timestamps\u001b[39m=\u001b[39muse_deprecated_int96_timestamps,\n\u001b[0;32m   1008\u001b[0m     compression_level\u001b[39m=\u001b[39mcompression_level,\n\u001b[0;32m   1009\u001b[0m     use_byte_stream_split\u001b[39m=\u001b[39muse_byte_stream_split,\n\u001b[0;32m   1010\u001b[0m     column_encoding\u001b[39m=\u001b[39mcolumn_encoding,\n\u001b[0;32m   1011\u001b[0m     writer_engine_version\u001b[39m=\u001b[39mengine_version,\n\u001b[0;32m   1012\u001b[0m     data_page_version\u001b[39m=\u001b[39mdata_page_version,\n\u001b[0;32m   1013\u001b[0m     use_compliant_nested_type\u001b[39m=\u001b[39muse_compliant_nested_type,\n\u001b[0;32m   1014\u001b[0m     encryption_properties\u001b[39m=\u001b[39mencryption_properties,\n\u001b[0;32m   1015\u001b[0m     write_batch_size\u001b[39m=\u001b[39mwrite_batch_size,\n\u001b[0;32m   1016\u001b[0m     dictionary_pagesize_limit\u001b[39m=\u001b[39mdictionary_pagesize_limit,\n\u001b[0;32m   1017\u001b[0m     store_schema\u001b[39m=\u001b[39mstore_schema,\n\u001b[0;32m   1018\u001b[0m     \u001b[39m*\u001b[39m\u001b[39m*\u001b[39moptions)\n\u001b[0;32m   1019\u001b[0m \u001b[39mself\u001b[39m\u001b[39m.\u001b[39mis_open \u001b[39m=\u001b[39m \u001b[39mTrue\u001b[39;00m\n",
      "File \u001b[1;32mc:\\Users\\criss\\anaconda3\\lib\\site-packages\\pyarrow\\_parquet.pyx:1754\u001b[0m, in \u001b[0;36mpyarrow._parquet.ParquetWriter.__cinit__\u001b[1;34m()\u001b[0m\n",
      "File \u001b[1;32mc:\\Users\\criss\\anaconda3\\lib\\site-packages\\pyarrow\\error.pxi:144\u001b[0m, in \u001b[0;36mpyarrow.lib.pyarrow_internal_check_status\u001b[1;34m()\u001b[0m\n",
      "File \u001b[1;32mc:\\Users\\criss\\anaconda3\\lib\\site-packages\\pyarrow\\error.pxi:121\u001b[0m, in \u001b[0;36mpyarrow.lib.check_status\u001b[1;34m()\u001b[0m\n",
      "\u001b[1;31mArrowNotImplementedError\u001b[0m: Cannot write struct type 'listing_sub_type' with no child field to Parquet. Consider adding a dummy child field."
     ]
    }
   ],
   "source": [
    "df.to_parquet(\"Zillo_data.parquet\", index= False)"
   ]
  },
  {
   "cell_type": "code",
   "execution_count": 13,
   "metadata": {},
   "outputs": [
    {
     "name": "stdout",
     "output_type": "stream",
     "text": [
      "Collecting fastparquet\n",
      "  Obtaining dependency information for fastparquet from https://files.pythonhosted.org/packages/1a/7e/820cf9342b3068c5c1a7eae459556c36bc7a876c6b14d270998ad083db35/fastparquet-2023.8.0-cp310-cp310-win_amd64.whl.metadata\n",
      "  Downloading fastparquet-2023.8.0-cp310-cp310-win_amd64.whl.metadata (4.2 kB)\n",
      "Requirement already satisfied: pandas>=1.5.0 in c:\\users\\criss\\anaconda3\\lib\\site-packages (from fastparquet) (2.0.3)\n",
      "Requirement already satisfied: numpy>=1.20.3 in c:\\users\\criss\\anaconda3\\lib\\site-packages (from fastparquet) (1.25.1)\n",
      "Collecting cramjam>=2.3 (from fastparquet)\n",
      "  Obtaining dependency information for cramjam>=2.3 from https://files.pythonhosted.org/packages/7f/d2/4c4346e3b94d60f9269bc204617645b3eb4c735f7cec90ee6924a7f91892/cramjam-2.7.0-cp310-none-win_amd64.whl.metadata\n",
      "  Downloading cramjam-2.7.0-cp310-none-win_amd64.whl.metadata (4.1 kB)\n",
      "Collecting fsspec (from fastparquet)\n",
      "  Obtaining dependency information for fsspec from https://files.pythonhosted.org/packages/fe/d3/e1aa96437d944fbb9cc95d0316e25583886e9cd9e6adc07baad943524eda/fsspec-2023.9.2-py3-none-any.whl.metadata\n",
      "  Downloading fsspec-2023.9.2-py3-none-any.whl.metadata (6.7 kB)\n",
      "Requirement already satisfied: packaging in c:\\users\\criss\\anaconda3\\lib\\site-packages (from fastparquet) (23.0)\n",
      "Requirement already satisfied: python-dateutil>=2.8.2 in c:\\users\\criss\\anaconda3\\lib\\site-packages (from pandas>=1.5.0->fastparquet) (2.8.2)\n",
      "Requirement already satisfied: pytz>=2020.1 in c:\\users\\criss\\anaconda3\\lib\\site-packages (from pandas>=1.5.0->fastparquet) (2022.7)\n",
      "Requirement already satisfied: tzdata>=2022.1 in c:\\users\\criss\\anaconda3\\lib\\site-packages (from pandas>=1.5.0->fastparquet) (2023.3)\n",
      "Requirement already satisfied: six>=1.5 in c:\\users\\criss\\anaconda3\\lib\\site-packages (from python-dateutil>=2.8.2->pandas>=1.5.0->fastparquet) (1.16.0)\n",
      "Downloading fastparquet-2023.8.0-cp310-cp310-win_amd64.whl (715 kB)\n",
      "   ---------------------------------------- 715.2/715.2 kB 5.6 MB/s eta 0:00:00\n",
      "Downloading cramjam-2.7.0-cp310-none-win_amd64.whl (1.3 MB)\n",
      "   ---------------------------------------- 1.3/1.3 MB 28.2 MB/s eta 0:00:00\n",
      "Downloading fsspec-2023.9.2-py3-none-any.whl (173 kB)\n",
      "   ---------------------------------------- 173.4/173.4 kB ? eta 0:00:00\n",
      "Installing collected packages: fsspec, cramjam, fastparquet\n",
      "Successfully installed cramjam-2.7.0 fastparquet-2023.8.0 fsspec-2023.9.2\n"
     ]
    }
   ],
   "source": [
    "!pip install fastparquet\n"
   ]
  },
  {
   "cell_type": "code",
   "execution_count": 14,
   "metadata": {},
   "outputs": [],
   "source": [
    "\n",
    "from fastparquet import write \n"
   ]
  },
  {
   "cell_type": "code",
   "execution_count": 21,
   "metadata": {},
   "outputs": [],
   "source": [
    "write('zillow_data.parq', df)"
   ]
  },
  {
   "cell_type": "code",
   "execution_count": null,
   "metadata": {},
   "outputs": [],
   "source": [
    "df = df.dropna(axis = 1, how  = \"all\")\n",
    "df.shape\n",
    "df.to_csv(\"zillow_cleaned.csv\", index = False)"
   ]
  }
 ],
 "metadata": {
  "kernelspec": {
   "display_name": "base",
   "language": "python",
   "name": "python3"
  },
  "language_info": {
   "codemirror_mode": {
    "name": "ipython",
    "version": 3
   },
   "file_extension": ".py",
   "mimetype": "text/x-python",
   "name": "python",
   "nbconvert_exporter": "python",
   "pygments_lexer": "ipython3",
   "version": "3.10.13"
  },
  "orig_nbformat": 4
 },
 "nbformat": 4,
 "nbformat_minor": 2
}
