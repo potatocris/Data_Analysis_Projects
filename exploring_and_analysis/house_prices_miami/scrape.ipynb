{
 "cells": [
  {
   "cell_type": "code",
   "execution_count": 1,
   "metadata": {},
   "outputs": [],
   "source": [
    "import pandas as pd\n",
    "from bs4 import BeautifulSoup\n",
    "import requests\n",
    "import json"
   ]
  },
  {
   "cell_type": "code",
   "execution_count": 14,
   "metadata": {},
   "outputs": [],
   "source": [
    "zillow_url = \"https://www.zillow.com/miami-fl/\"\n",
    "\n",
    "urls = [zillow_url + f\"{str(page)}_p/\" for page in range(1, 3, 1)]\n",
    "\n",
    "headers = {\n",
    "    'authority': 'www.zillow.com',\n",
    "    'accept': '*/*',\n",
    "    'accept-language': 'en-US,en;q=0.9,es-US;q=0.8,es;q=0.7',\n",
    "    'sec-ch-ua': '\"Not/A)Brand\";v=\"99\", \"Google Chrome\";v=\"115\", \"Chromium\";v=\"115\"',\n",
    "    'sec-ch-ua-mobile': '?0',\n",
    "    'sec-ch-ua-platform': '\"Windows\"',\n",
    "    'sec-fetch-dest': 'empty',\n",
    "    'sec-fetch-mode': 'cors',\n",
    "    'sec-fetch-site': 'same-origin',\n",
    "    'user-agent': 'Mozilla/5.0 (Windows NT 10.0; Win64; x64) AppleWebKit/537.36 (KHTML, like Gecko) Chrome/115.0.0.0 Safari/537.36',\n",
    "}"
   ]
  },
  {
   "cell_type": "code",
   "execution_count": 15,
   "metadata": {},
   "outputs": [
    {
     "data": {
      "text/plain": [
       "['https://www.zillow.com/miami-fl/1_p/',\n",
       " 'https://www.zillow.com/miami-fl/2_p/']"
      ]
     },
     "execution_count": 15,
     "metadata": {},
     "output_type": "execute_result"
    }
   ],
   "source": [
    "urls"
   ]
  },
  {
   "cell_type": "code",
   "execution_count": 82,
   "metadata": {},
   "outputs": [],
   "source": [
    "url1 = 'https://www.zillow.com/miami-fl/1_p/'"
   ]
  },
  {
   "cell_type": "code",
   "execution_count": 16,
   "metadata": {},
   "outputs": [],
   "source": [
    "property_data = {}"
   ]
  },
  {
   "cell_type": "code",
   "execution_count": 21,
   "metadata": {},
   "outputs": [
    {
     "name": "stdout",
     "output_type": "stream",
     "text": [
      "<li class=\"ListItem-c11n-8-84-3__sc-10e22w8-0 StyledListCardWrapper-srp__sc-wtsrtn-0 iCyebE gTOWtl\"><div data-renderstrat=\"timeout\" style=\"min-height:1px;min-width:1px\"><div></div></div></li>\n",
      "no id found\n",
      "<li class=\"ListItem-c11n-8-84-3__sc-10e22w8-0 StyledListCardWrapper-srp__sc-wtsrtn-0 iCyebE gTOWtl\"><div data-renderstrat=\"timeout\" style=\"min-height:1px;min-width:1px\"><div></div></div></li>\n",
      "no id found\n",
      "<li class=\"ListItem-c11n-8-84-3__sc-10e22w8-0 StyledListCardWrapper-srp__sc-wtsrtn-0 iCyebE gTOWtl\"><div data-renderstrat=\"timeout\" style=\"min-height:1px;min-width:1px\"><div></div></div></li>\n",
      "no id found\n",
      "<li class=\"ListItem-c11n-8-84-3__sc-10e22w8-0 StyledListCardWrapper-srp__sc-wtsrtn-0 iCyebE gTOWtl\"><div data-renderstrat=\"timeout\" style=\"min-height:1px;min-width:1px\"><div></div></div></li>\n",
      "no id found\n",
      "<li class=\"ListItem-c11n-8-84-3__sc-10e22w8-0 StyledListCardWrapper-srp__sc-wtsrtn-0 iCyebE gTOWtl\"><div data-renderstrat=\"timeout\" style=\"min-height:1px;min-width:1px\"><div></div></div></li>\n",
      "no id found\n",
      "<li class=\"ListItem-c11n-8-84-3__sc-10e22w8-0 StyledListCardWrapper-srp__sc-wtsrtn-0 iCyebE gTOWtl\"><div data-renderstrat=\"timeout\" style=\"min-height:1px;min-width:1px\"><div></div></div></li>\n",
      "no id found\n",
      "<li class=\"ListItem-c11n-8-84-3__sc-10e22w8-0 StyledListCardWrapper-srp__sc-wtsrtn-0 iCyebE gTOWtl\"><div data-renderstrat=\"timeout\" style=\"min-height:1px;min-width:1px\"><div></div></div></li>\n",
      "no id found\n",
      "<li class=\"ListItem-c11n-8-84-3__sc-10e22w8-0 StyledListCardWrapper-srp__sc-wtsrtn-0 iCyebE gTOWtl\"><div data-renderstrat=\"timeout\" style=\"min-height:1px;min-width:1px\"><div></div></div></li>\n",
      "no id found\n",
      "<li class=\"ListItem-c11n-8-84-3__sc-10e22w8-0 StyledListCardWrapper-srp__sc-wtsrtn-0 iCyebE gTOWtl\"><div data-renderstrat=\"timeout\" style=\"min-height:1px;min-width:1px\"><div></div></div></li>\n",
      "no id found\n",
      "<li class=\"ListItem-c11n-8-84-3__sc-10e22w8-0 StyledListCardWrapper-srp__sc-wtsrtn-0 iCyebE gTOWtl\"><div data-renderstrat=\"timeout\" style=\"min-height:1px;min-width:1px\"><div></div></div></li>\n",
      "no id found\n",
      "<li class=\"ListItem-c11n-8-84-3__sc-10e22w8-0 StyledListCardWrapper-srp__sc-wtsrtn-0 iCyebE gTOWtl\"><div data-renderstrat=\"timeout\" style=\"min-height:1px;min-width:1px\"><div></div></div></li>\n",
      "no id found\n",
      "<li class=\"ListItem-c11n-8-84-3__sc-10e22w8-0 StyledListCardWrapper-srp__sc-wtsrtn-0 iCyebE gTOWtl\"><div data-renderstrat=\"timeout\" style=\"min-height:1px;min-width:1px\"><div></div></div></li>\n",
      "no id found\n",
      "<li class=\"ListItem-c11n-8-84-3__sc-10e22w8-0 StyledListCardWrapper-srp__sc-wtsrtn-0 iCyebE gTOWtl\"><div data-renderstrat=\"timeout\" style=\"min-height:1px;min-width:1px\"><div></div></div></li>\n",
      "no id found\n",
      "<li class=\"ListItem-c11n-8-84-3__sc-10e22w8-0 StyledListCardWrapper-srp__sc-wtsrtn-0 iCyebE gTOWtl\"><div data-renderstrat=\"timeout\" style=\"min-height:1px;min-width:1px\"><div></div></div></li>\n",
      "no id found\n",
      "<li class=\"ListItem-c11n-8-84-3__sc-10e22w8-0 StyledListCardWrapper-srp__sc-wtsrtn-0 iCyebE gTOWtl\"><div data-renderstrat=\"timeout\" style=\"min-height:1px;min-width:1px\"><div></div></div></li>\n",
      "no id found\n",
      "<li class=\"ListItem-c11n-8-84-3__sc-10e22w8-0 StyledListCardWrapper-srp__sc-wtsrtn-0 iCyebE gTOWtl\"><div data-renderstrat=\"timeout\" style=\"min-height:1px;min-width:1px\"><div></div></div></li>\n",
      "no id found\n",
      "<li class=\"ListItem-c11n-8-84-3__sc-10e22w8-0 StyledListCardWrapper-srp__sc-wtsrtn-0 iCyebE gTOWtl\"><div data-renderstrat=\"timeout\" style=\"min-height:1px;min-width:1px\"><div></div></div></li>\n",
      "no id found\n",
      "<li class=\"ListItem-c11n-8-84-3__sc-10e22w8-0 StyledListCardWrapper-srp__sc-wtsrtn-0 iCyebE gTOWtl\"><div data-renderstrat=\"timeout\" style=\"min-height:1px;min-width:1px\"><div></div></div></li>\n",
      "no id found\n",
      "<li class=\"ListItem-c11n-8-84-3__sc-10e22w8-0 StyledListCardWrapper-srp__sc-wtsrtn-0 iCyebE gTOWtl\"><div data-renderstrat=\"timeout\" style=\"min-height:1px;min-width:1px\"><div></div></div></li>\n",
      "no id found\n",
      "<li class=\"ListItem-c11n-8-84-3__sc-10e22w8-0 StyledListCardWrapper-srp__sc-wtsrtn-0 iCyebE gTOWtl\"><div data-renderstrat=\"timeout\" style=\"min-height:1px;min-width:1px\"><div></div></div></li>\n",
      "no id found\n",
      "<li class=\"ListItem-c11n-8-84-3__sc-10e22w8-0 StyledListCardWrapper-srp__sc-wtsrtn-0 iCyebE gTOWtl\"><div data-renderstrat=\"timeout\" style=\"min-height:1px;min-width:1px\"><div></div></div></li>\n",
      "no id found\n",
      "<li class=\"ListItem-c11n-8-84-3__sc-10e22w8-0 StyledListCardWrapper-srp__sc-wtsrtn-0 iCyebE gTOWtl\"><div data-renderstrat=\"timeout\" style=\"min-height:1px;min-width:1px\"><div></div></div></li>\n",
      "no id found\n",
      "<li class=\"ListItem-c11n-8-84-3__sc-10e22w8-0 StyledListCardWrapper-srp__sc-wtsrtn-0 iCyebE gTOWtl\"><div data-renderstrat=\"timeout\" style=\"min-height:1px;min-width:1px\"><div></div></div></li>\n",
      "no id found\n",
      "<li class=\"ListItem-c11n-8-84-3__sc-10e22w8-0 StyledListCardWrapper-srp__sc-wtsrtn-0 iCyebE gTOWtl\"><div data-renderstrat=\"timeout\" style=\"min-height:1px;min-width:1px\"><div></div></div></li>\n",
      "no id found\n",
      "<li class=\"ListItem-c11n-8-84-3__sc-10e22w8-0 StyledListCardWrapper-srp__sc-wtsrtn-0 iCyebE gTOWtl\"><div data-renderstrat=\"timeout\" style=\"min-height:1px;min-width:1px\"><div></div></div></li>\n",
      "no id found\n",
      "<li class=\"ListItem-c11n-8-84-3__sc-10e22w8-0 StyledListCardWrapper-srp__sc-wtsrtn-0 iCyebE gTOWtl\"><div data-renderstrat=\"timeout\" style=\"min-height:1px;min-width:1px\"><div></div></div></li>\n",
      "no id found\n",
      "<li class=\"ListItem-c11n-8-84-3__sc-10e22w8-0 StyledListCardWrapper-srp__sc-wtsrtn-0 iCyebE gTOWtl\"><div data-renderstrat=\"timeout\" style=\"min-height:1px;min-width:1px\"><div></div></div></li>\n",
      "no id found\n",
      "<li class=\"ListItem-c11n-8-84-3__sc-10e22w8-0 StyledListCardWrapper-srp__sc-wtsrtn-0 iCyebE gTOWtl\"><div data-renderstrat=\"timeout\" style=\"min-height:1px;min-width:1px\"><div></div></div></li>\n",
      "no id found\n",
      "<li class=\"ListItem-c11n-8-84-3__sc-10e22w8-0 StyledListCardWrapper-srp__sc-wtsrtn-0 iCyebE gTOWtl\"><div data-renderstrat=\"timeout\" style=\"min-height:1px;min-width:1px\"><div></div></div></li>\n",
      "no id found\n",
      "<li class=\"ListItem-c11n-8-84-3__sc-10e22w8-0 StyledListCardWrapper-srp__sc-wtsrtn-0 iCyebE gTOWtl\"><div data-renderstrat=\"timeout\" style=\"min-height:1px;min-width:1px\"><div></div></div></li>\n",
      "no id found\n",
      "<li class=\"ListItem-c11n-8-84-3__sc-10e22w8-0 StyledListCardWrapper-srp__sc-wtsrtn-0 iCyebE gTOWtl\"><div data-renderstrat=\"timeout\" style=\"min-height:1px;min-width:1px\"><div></div></div></li>\n",
      "no id found\n",
      "<li class=\"ListItem-c11n-8-84-3__sc-10e22w8-0 StyledListCardWrapper-srp__sc-wtsrtn-0 iCyebE gTOWtl\"><div data-renderstrat=\"timeout\" style=\"min-height:1px;min-width:1px\"><div></div></div></li>\n",
      "no id found\n"
     ]
    }
   ],
   "source": [
    "for url in range(1):\n",
    "    response = requests.get(\"https://www.zillow.com/miami-fl/2_p/\", headers = headers)\n",
    "    soup = BeautifulSoup(response.content)\n",
    "    \n",
    "    #get info on all listed on the page\n",
    "    properties = soup.find_all(\"li\", class_ = \"ListItem-c11n-8-84-3__sc-10e22w8-0 StyledListCardWrapper-srp__sc-wtsrtn-0 iCyebE gTOWtl\")\n",
    "    \n",
    "    #filter through each listing\n",
    "    for prop in properties:\n",
    "\n",
    "        try:\n",
    "            \n",
    "            #property ID\n",
    "            article_tag = prop.find(\"article\", {\"role\" : \"presentation\"})\n",
    "            property_id = article_tag.attrs[\"id\"].split(\"_\")[1]\n",
    "        except AttributeError:\n",
    "            print(prop)\n",
    "            property_id = \"no id found\"\n",
    "            \n",
    "            print(property_id)\n",
    "                \n"
   ]
  },
  {
   "cell_type": "code",
   "execution_count": 5,
   "metadata": {},
   "outputs": [],
   "source": [
    "x = list(range(10, 1, -1))"
   ]
  },
  {
   "cell_type": "code",
   "execution_count": 11,
   "metadata": {},
   "outputs": [],
   "source": [
    "import numpy as np"
   ]
  },
  {
   "cell_type": "code",
   "execution_count": 12,
   "metadata": {},
   "outputs": [],
   "source": [
    "a = np.array([1, 2, 3])"
   ]
  },
  {
   "cell_type": "code",
   "execution_count": 13,
   "metadata": {},
   "outputs": [],
   "source": [
    "b = np.array([4, 5, 6])"
   ]
  },
  {
   "cell_type": "code",
   "execution_count": 14,
   "metadata": {},
   "outputs": [
    {
     "data": {
      "text/plain": [
       "array([ 4, 10, 18])"
      ]
     },
     "execution_count": 14,
     "metadata": {},
     "output_type": "execute_result"
    }
   ],
   "source": [
    "a*b"
   ]
  },
  {
   "cell_type": "code",
   "execution_count": 6,
   "metadata": {},
   "outputs": [
    {
     "data": {
      "text/plain": [
       "[10, 9, 8, 7, 6, 5, 4, 3, 2]"
      ]
     },
     "execution_count": 6,
     "metadata": {},
     "output_type": "execute_result"
    }
   ],
   "source": [
    "x"
   ]
  },
  {
   "cell_type": "code",
   "execution_count": 9,
   "metadata": {},
   "outputs": [
    {
     "data": {
      "text/plain": [
       "4"
      ]
     },
     "execution_count": 9,
     "metadata": {},
     "output_type": "execute_result"
    }
   ],
   "source": [
    "x[-2]"
   ]
  },
  {
   "cell_type": "code",
   "execution_count": 8,
   "metadata": {},
   "outputs": [
    {
     "ename": "ValueError",
     "evalue": "list.remove(x): x not in list",
     "output_type": "error",
     "traceback": [
      "\u001b[1;31m---------------------------------------------------------------------------\u001b[0m",
      "\u001b[1;31mValueError\u001b[0m                                Traceback (most recent call last)",
      "\u001b[1;32mc:\\Users\\criss\\OneDrive\\Documents\\Learning\\GitHub\\DA\\exploring_and_analysis\\house_prices_miami\\scrape.ipynb Cell 9\u001b[0m line \u001b[0;36m1\n\u001b[1;32m----> <a href='vscode-notebook-cell:/c%3A/Users/criss/OneDrive/Documents/Learning/GitHub/DA/exploring_and_analysis/house_prices_miami/scrape.ipynb#X16sZmlsZQ%3D%3D?line=0'>1</a>\u001b[0m y \u001b[39m=\u001b[39m x\u001b[39m.\u001b[39;49mremove(\u001b[39m2\u001b[39;49m)\n",
      "\u001b[1;31mValueError\u001b[0m: list.remove(x): x not in list"
     ]
    }
   ],
   "source": [
    "y = x.remove(2)"
   ]
  },
  {
   "cell_type": "code",
   "execution_count": 4,
   "metadata": {},
   "outputs": [
    {
     "data": {
      "text/plain": [
       "[1, 2, 3, 4, 5, 6, 7, 8, 9]"
      ]
     },
     "execution_count": 4,
     "metadata": {},
     "output_type": "execute_result"
    }
   ],
   "source": [
    "list(range(1, 10))"
   ]
  },
  {
   "cell_type": "code",
   "execution_count": 22,
   "metadata": {},
   "outputs": [
    {
     "name": "stdout",
     "output_type": "stream",
     "text": [
      "200\n"
     ]
    }
   ],
   "source": [
    "print(response.status_code)"
   ]
  },
  {
   "cell_type": "code",
   "execution_count": null,
   "metadata": {},
   "outputs": [],
   "source": [
    "        #place all data inside a dictionary for each property\n",
    "        property_dict = {}\n",
    "        \n",
    "        #property type and location found inside a JSON format\n",
    "        try:\n",
    "            prop_info = prop.find(\"script\", {\"type\" : \"application/ld+json\"}).string\n",
    "        except:\n",
    "            print(prop.find(\"script\", {\"type\" : \"application/ld+json\"}))\n",
    "        \n",
    "        data = json.loads(prop_info)\n",
    "        property_dict[\"property_type\"] = data[\"@type\"]\n",
    "        property_dict[\"address\"] = data[\"name\"]\n",
    "        property_dict[\"floor_size\"] = data['floorSize']['value']\n",
    "        property_dict[\"floor_size_value_type\"] = data['floorSize']['@type']\n",
    "        property_dict[\"street_address\"] = data['address']['streetAddress']\n",
    "        property_dict[\"locality\"] = data['address']['addressLocality']\n",
    "        property_dict[\"state\"] = data['address']['addressRegion']\n",
    "        property_dict[\"postal_code\"] = data['address']['postalCode']\n",
    "        property_dict[\"latitude\"] = data['geo']['latitude']\n",
    "        property_dict[\"longitude\"] = data['geo']['longitude']\n",
    "        \n",
    "        # other useful information outside json format\n",
    "        card_info = prop.find(\"div\", class_ = \"StyledPropertyCardDataWrapper-c11n-8-84-3__sc-1omp4c3-0 bKpguY property-card-data\")\n",
    "        \n",
    "        # property_dict[\"selling_price\"] = card_info.find(\"span\", class_=\"PropertyCardWrapper__StyledPriceLine-srp__sc-16e8gqd-1 iMKTKr\").get_text(strip = True)\n",
    "        # property_dict[\"property_agency\"] =  card_info.find(\"div\", class_=\"StyledPropertyCardDataArea-c11n-8-84-3__sc-yipmu-0 jretvB\").get_text(strip = True)\n",
    "        # #amenity info    \n",
    "        # amenities = card_info.find(\"ul\", class_=\"StyledPropertyCardHomeDetailsList-c11n-8-84-3__sc-1xvdaej-0 eYPFID\").find_all(\"li\")\n",
    "        # property_dict[\"rooms\"] = rooms = amenities[0].b.string\n",
    "        # property_dict[\"baths\"] = baths = amenities[1].b.string\n",
    "        # property_dict[\"area\"] = area = amenities[2].b.string\n",
    "        # property_dict[\"link\"] = card_info.a.get(\"href\")\n",
    "        \n",
    "        \n",
    "        \n",
    "    #append single property data \n",
    "    \n",
    "    property_data[property_id] = property_dict"
   ]
  },
  {
   "cell_type": "code",
   "execution_count": 9,
   "metadata": {},
   "outputs": [
    {
     "data": {
      "text/plain": [
       "{'no id found': {'property_type': 'SingleFamilyResidence',\n",
       "  'address': '1176 NW 49th St, Miami, FL 33127',\n",
       "  'floor_size': '1,338',\n",
       "  'floor_size_value_type': 'QuantitativeValue',\n",
       "  'street_address': '1176 NW 49th St',\n",
       "  'locality': 'Miami',\n",
       "  'state': 'FL',\n",
       "  'postal_code': '33127',\n",
       "  'latitude': 25.82007,\n",
       "  'longitude': -80.21556}}"
      ]
     },
     "execution_count": 9,
     "metadata": {},
     "output_type": "execute_result"
    }
   ],
   "source": [
    "property_data"
   ]
  },
  {
   "cell_type": "code",
   "execution_count": 194,
   "metadata": {},
   "outputs": [],
   "source": [
    "def save_data(title, data):\n",
    "    with open(title, 'w', encoding = \"utf-8\") as f:\n",
    "        json.dump(data, f, ensure_ascii=False, indent= 2)"
   ]
  },
  {
   "cell_type": "code",
   "execution_count": 201,
   "metadata": {},
   "outputs": [],
   "source": [
    "save_data(\"zillow_data.json\", property_data)"
   ]
  }
 ],
 "metadata": {
  "kernelspec": {
   "display_name": "base",
   "language": "python",
   "name": "python3"
  },
  "language_info": {
   "codemirror_mode": {
    "name": "ipython",
    "version": 3
   },
   "file_extension": ".py",
   "mimetype": "text/x-python",
   "name": "python",
   "nbconvert_exporter": "python",
   "pygments_lexer": "ipython3",
   "version": "3.10.12"
  },
  "orig_nbformat": 4
 },
 "nbformat": 4,
 "nbformat_minor": 2
}
