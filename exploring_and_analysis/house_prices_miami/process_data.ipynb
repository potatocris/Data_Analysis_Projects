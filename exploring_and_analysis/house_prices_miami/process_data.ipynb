{
 "cells": [
  {
   "cell_type": "code",
   "execution_count": 53,
   "metadata": {},
   "outputs": [
    {
     "data": {
      "text/plain": [
       "polars.config.Config"
      ]
     },
     "execution_count": 53,
     "metadata": {},
     "output_type": "execute_result"
    }
   ],
   "source": [
    "import polars as pl\n",
    "from polars.testing import assert_frame_equal\n",
    "\n",
    "pl.Config.set_tbl_width_chars(100)"
   ]
  },
  {
   "cell_type": "code",
   "execution_count": 90,
   "metadata": {},
   "outputs": [],
   "source": [
    "df  = pl.read_parquet(\"zillow_data.parq\")"
   ]
  },
  {
   "cell_type": "code",
   "execution_count": 47,
   "metadata": {},
   "outputs": [
    {
     "name": "stdout",
     "output_type": "stream",
     "text": [
      "Rows: 41\n",
      "Columns: 45\n",
      "$ zpid                          <str> 25.980246--80.34256, 2055229684, 25.732807--80.30778, 26.027853--80.24646, 25.77403--80.32909, 2079463688, 25.927767--80.23915, 25.924301--80.35678, 25.980934--80.303055, 25.559114--80.364105\n",
      "$ id                            <str> 25.980246--80.34256, 2055229684, 25.732807--80.30778, 26.027853--80.24646, 25.77403--80.32909, 2079463688, 25.927767--80.23915, 25.924301--80.35678, 25.980934--80.303055, 25.559114--80.364105\n",
      "$ lotId                         <f64> 2093516832.0, None, 2413566197.0, 2343919163.0, 2592498815.0, None, 2093608209.0, 2449979416.0, 1045079548.0, 2177016358.0\n",
      "$ statusType                    <str> FOR_RENT, FOR_RENT, FOR_RENT, FOR_RENT, FOR_RENT, FOR_RENT, FOR_RENT, FOR_RENT, FOR_RENT, FOR_RENT\n",
      "$ statusText                    <str> Alexan Miramar, Apartment for rent, Windsor Ludlam Trail, Ventura Pointe Apartments, Park 82nd Apartments, Apartment for rent, Oak Enclave, Atlantico at Aquabella, Grand Riviera Miramar, Resia Old Cutler\n",
      "$ detailUrl                     <str> /apartments/miramar-fl/alexan-miramar/9Q9bNK/, https://www.zillow.com/homedetails/19580-W-Dixie-Hwy-D9BA38D55-Miami-FL-33180/2055229684_zpid/, /apartments/miami-fl/windsor-ludlam-trail/BXfyk2/, /apartments/pembroke-pines-fl/ventura-pointe-apartments/BJZzDy/, /apartments/doral-fl/park-82nd-apartments/CBhsx6/, https://www.zillow.com/apartments/miami-lakes-fl/executive-apartments/5XhxKN/, /apartments/miami-gardens-fl/oak-enclave/9QBNR9/, /apartments/hialeah-fl/atlantico-at-aquabella/BfzTZw/, /apartments/miramar-fl/grand-riviera-miramar/5hJ3S4/, /b/resia-old-cutler-miami-fl-9hdLMH/\n",
      "$ latLong                    <binary> b'{\"latitude\":25.980246,\"longitude\":-80.34256}', b'{\"latitude\":25.95654,\"longitude\":-80.14765}', b'{\"latitude\":25.732807,\"longitude\":-80.30778}', b'{\"latitude\":26.027853,\"longitude\":-80.24646}', b'{\"latitude\":25.77403,\"longitude\":-80.32909}', b'{\"latitude\":25.912596,\"longitude\":-80.320786}', b'{\"latitude\":25.927767,\"longitude\":-80.23915}', b'{\"latitude\":25.924301,\"longitude\":-80.35678}', b'{\"latitude\":25.980934,\"longitude\":-80.303055}', b'{\"latitude\":25.559114,\"longitude\":-80.364105}'\n",
      "$ units                      <binary> b'[{\"price\":\"$2,550+\",\"beds\":\"2\"},{\"price\":\"$3,070+\",\"beds\":\"3\"}]', None, b'[{\"price\":\"$3,460+\",\"beds\":\"2\"},{\"price\":\"$3,685+\",\"beds\":\"3\"}]', b'[{\"price\":\"$2,686+\",\"beds\":\"2\"}]', b'[{\"price\":\"$3,130+\",\"beds\":\"2\"},{\"price\":\"$3,830+\",\"beds\":\"3\"}]', None, b'[{\"price\":\"$2,325+\",\"beds\":\"2\"},{\"price\":\"$3,020+\",\"beds\":\"3\"}]', b'[{\"price\":\"$2,860+\",\"beds\":\"2\"},{\"price\":\"$3,278+\",\"beds\":\"3\"}]', b'[{\"price\":\"$2,699+\",\"beds\":\"2\"},{\"price\":\"$3,199+\",\"beds\":\"3\"}]', b'[{\"price\":\"$2,380+\",\"beds\":\"2\"},{\"price\":\"$2,590+\",\"beds\":\"3\"}]'\n",
      "$ variableData               <binary> b'{\"type\":\"TIME_ON_INFO\",\"text\":null}', b'{\"type\":\"TIME_ON_INFO\",\"text\":\"2 days ago\",\"data\":{\"isFresh\":false}}', b'{\"type\":\"3D_HOME\",\"text\":\"3D Tour\"}', b'{\"type\":\"TIME_ON_INFO\",\"text\":null}', b'{\"type\":\"TIME_ON_INFO\",\"text\":null}', b'{\"type\":\"TIME_ON_INFO\",\"text\":\"23 days ago\",\"data\":{\"isFresh\":false}}', b'{\"type\":\"TIME_ON_INFO\",\"text\":null}', b'{\"type\":\"3D_HOME\",\"text\":\"3D Tour\"}', b'{\"type\":\"3D_HOME\",\"text\":\"3D Tour\"}', b'{\"type\":\"TIME_ON_INFO\",\"text\":null}'\n",
      "$ badgeInfo                  <binary> None, None, None, None, None, None, None, None, b'{\"type\":\"SPECIAL_OFFER\",\"text\":\"Special Offer\"}', b'{\"type\":\"INCOME_RESTRICTED\",\"text\":\"Income Restricted\"}'\n",
      "$ buildingName                  <str> Alexan Miramar, None, Windsor Ludlam Trail, Ventura Pointe Apartments, Park 82nd Apartments, None, Oak Enclave, Atlantico at Aquabella, Grand Riviera Miramar, Resia Old Cutler\n",
      "$ isBuilding                   <bool> True, None, True, True, True, None, True, True, True, True\n",
      "$ address                       <str> 3100 SW 145th Ave, Hollywood, FL, Waterford Aventura, 19580 W Dixie Hwy, Miami, FL 33180, 7004 SW 40th St, Miami, FL, 7850 Pasadena Blvd, Hollywood, FL, 8255 Park Blvd, Miami, FL, Executive Apartments, 7501 Miami Lakes Dr #625, Hialeah, FL 33014, 2301 NW 167th St, Miami Gardens, FL, 11181 W 35th Way, Hialeah, FL, 11900 SW 31st Ct, Hollywood, FL, 22555 SW 107th Ave, Miami, FL\n",
      "$ addressStreet                 <str> 3100 SW 145th Ave  # 2215, 19580 W Dixie Hwy #D9BA38D55, 7004 SW 40th St   # 254, 7850 Pasadena Blvd # 302, 8255 Park Blvd # e8545fb73, 7501 Miami Lakes Dr #625, 2301 NW 167th St   # 315, 11181 W  35th Way  # 409, 11900 SW 31st Ct   # 9330dd2e4, 22555 SW 107th Ave  # 806ad2178\n",
      "$ addressState                  <str> FL, FL, FL, FL, FL, FL, FL, FL, FL, FL\n",
      "$ addressCity                   <str> Hollywood, Miami, Miami, Hollywood, Miami, Hialeah, Miami Gardens, Hialeah, Hollywood, Miami\n",
      "$ addressZipcode                <str> 33027, 33180, 33155, 33024, 33126, 33014, 33056, 33018, 33025, 33170\n",
      "$ providerListingId             <str> 1hhbf2x7gum4y, 5prm7c9vmhyd, 58gr8c9cf6kd2, 29b1ne9zn8sec, 3c0mg7qr1nu7c, 36146uyd1rcg2, 2dtqfttyy5nen, rum8jzzqh28z, 2wvp77121g7ck, 43uz8m0k5u19w\n",
      "$ availabilityCount             <f64> 247.0, None, 8.0, 3.0, 0.0, None, 17.0, 1.0, 0.0, 0.0\n",
      "$ canSaveBuilding              <bool> True, None, True, True, True, None, True, True, True, True\n",
      "$ has3DModel                   <bool> False, False, True, False, False, False, False, True, True, False\n",
      "$ isFeaturedListing            <bool> True, True, True, True, True, True, True, True, True, True\n",
      "$ isShowcaseListing            <bool> False, False, False, False, False, False, False, False, False, False\n",
      "$ isSaved                      <bool> False, False, False, False, False, False, False, False, False, False\n",
      "$ list                         <bool> True, True, True, True, True, True, True, True, True, True\n",
      "$ relaxed                      <bool> False, False, False, False, False, False, False, False, False, False\n",
      "$ countryCurrency               <str> None, $, None, None, None, $, None, None, None, None\n",
      "$ price                         <str> None, $2,855+/mo, None, None, None, $2,440/mo, None, None, None, None\n",
      "$ unformattedPrice              <f64> None, 2855.0, None, None, None, 2440.0, None, None, None, None\n",
      "$ isUndisclosedAddress         <bool> None, False, None, None, None, False, None, None, None, None\n",
      "$ beds                          <f64> None, 2.0, None, None, None, 2.0, None, None, None, None\n",
      "$ baths                         <f64> None, 2.0, None, None, None, 2.0, None, None, None, None\n",
      "$ area                          <f64> None, None, None, None, None, 836.0, None, None, None, None\n",
      "$ isZillowOwned                <bool> None, False, None, None, None, False, None, None, None, None\n",
      "$ hdpData                    <binary> None, b'{\"homeInfo\":{\"zpid\":2055229684,\"streetAddress\":\"19580 W Dixie Hwy #D9BA38D55\",\"zipcode\":\"33180\",\"city\":\"Miami\",\"state\":\"FL\",\"latitude\":25.95654,\"longitude\":-80.14765,\"price\":2855.0,\"bathrooms\":2.0,\"bedrooms\":2.0,\"homeType\":\"APARTMENT\",\"homeStatus\":\"FOR_RENT\",\"daysOnZillow\":-1,\"isFeatured\":true,\"shouldHighlight\":false,\"isRentalWithBasePrice\":false,\"listing_sub_type\":{},\"isUnmappable\":false,\"isPreforeclosureAuction\":false,\"homeStatusForHDP\":\"FOR_RENT\",\"priceForHDP\":2855.0,\"isNonOwnerOccupied\":true,\"isPremierBuilder\":false,\"isZillowOwned\":false,\"currency\":\"USD\",\"country\":\"USA\",\"unit\":\"# d9ba38d55\",\"isShowcaseListing\":false}}', None, None, None, b'{\"homeInfo\":{\"zpid\":2079463688,\"streetAddress\":\"7501 Miami Lakes Dr #625\",\"zipcode\":\"33014\",\"city\":\"Hialeah\",\"state\":\"FL\",\"latitude\":25.912596,\"longitude\":-80.320786,\"price\":2440.0,\"bathrooms\":2.0,\"bedrooms\":2.0,\"livingArea\":836.0,\"homeType\":\"APARTMENT\",\"homeStatus\":\"FOR_RENT\",\"daysOnZillow\":-1,\"isFeatured\":true,\"shouldHighlight\":false,\"isRentalWithBasePrice\":false,\"rentZestimate\":2160,\"listing_sub_type\":{},\"isUnmappable\":false,\"isPreforeclosureAuction\":false,\"homeStatusForHDP\":\"FOR_RENT\",\"priceForHDP\":2440.0,\"isNonOwnerOccupied\":true,\"isPremierBuilder\":false,\"isZillowOwned\":false,\"currency\":\"USD\",\"country\":\"USA\",\"unit\":\"# 625\",\"isShowcaseListing\":false}}', None, None, None, None\n",
      "$ isUserClaimingOwner          <bool> None, False, None, None, None, False, None, None, None, None\n",
      "$ isUserConfirmedClaim         <bool> None, False, None, None, None, False, None, None, None, None\n",
      "$ pgapt                         <str> None, ForRent, None, None, None, ForRent, None, None, None, None\n",
      "$ sgapt                         <str> None, For Rent, None, None, None, For Rent, None, None, None, None\n",
      "$ zestimate                     <f64> None, None, None, None, None, None, None, None, None, None\n",
      "$ shouldShowZestimateAsPrice   <bool> None, False, None, None, None, False, None, None, None, None\n",
      "$ hasVideo                     <bool> None, False, None, None, None, False, None, None, None, None\n",
      "$ isHomeRec                    <bool> None, False, None, None, None, False, None, None, None, None\n",
      "$ hasAdditionalAttributions    <bool> None, False, None, None, None, False, None, None, None, None\n",
      "$ availabilityDate              <str> None, None, None, None, None, 2023-11-15 00:00:00, None, None, None, None\n",
      "\n"
     ]
    }
   ],
   "source": [
    "df.glimpse()"
   ]
  },
  {
   "cell_type": "code",
   "execution_count": 43,
   "metadata": {},
   "outputs": [
    {
     "data": {
      "text/html": [
       "<div><style>\n",
       ".dataframe > thead > tr > th,\n",
       ".dataframe > tbody > tr > td {\n",
       "  text-align: right;\n",
       "}\n",
       "</style>\n",
       "<small>shape: (2, 45)</small><table border=\"1\" class=\"dataframe\"><thead><tr><th>zpid</th><th>id</th><th>lotId</th><th>statusType</th><th>statusText</th><th>detailUrl</th><th>latLong</th><th>units</th><th>variableData</th><th>badgeInfo</th><th>buildingName</th><th>isBuilding</th><th>address</th><th>addressStreet</th><th>addressState</th><th>addressCity</th><th>addressZipcode</th><th>providerListingId</th><th>availabilityCount</th><th>canSaveBuilding</th><th>has3DModel</th><th>isFeaturedListing</th><th>isShowcaseListing</th><th>isSaved</th><th>list</th><th>relaxed</th><th>countryCurrency</th><th>price</th><th>unformattedPrice</th><th>isUndisclosedAddress</th><th>beds</th><th>baths</th><th>area</th><th>isZillowOwned</th><th>hdpData</th><th>isUserClaimingOwner</th><th>isUserConfirmedClaim</th><th>pgapt</th><th>sgapt</th><th>zestimate</th><th>shouldShowZestimateAsPrice</th><th>hasVideo</th><th>isHomeRec</th><th>hasAdditionalAttributions</th><th>availabilityDate</th></tr><tr><td>str</td><td>str</td><td>f64</td><td>str</td><td>str</td><td>str</td><td>binary</td><td>binary</td><td>binary</td><td>binary</td><td>str</td><td>bool</td><td>str</td><td>str</td><td>str</td><td>str</td><td>str</td><td>str</td><td>f64</td><td>bool</td><td>bool</td><td>bool</td><td>bool</td><td>bool</td><td>bool</td><td>bool</td><td>str</td><td>str</td><td>f64</td><td>bool</td><td>f64</td><td>f64</td><td>f64</td><td>bool</td><td>binary</td><td>bool</td><td>bool</td><td>str</td><td>str</td><td>f64</td><td>bool</td><td>bool</td><td>bool</td><td>bool</td><td>str</td></tr></thead><tbody><tr><td>&quot;25.980246--80.…</td><td>&quot;25.980246--80.…</td><td>2.0935e9</td><td>&quot;FOR_RENT&quot;</td><td>&quot;Alexan Miramar…</td><td>&quot;/apartments/mi…</td><td>[binary data]</td><td>[binary data]</td><td>[binary data]</td><td>null</td><td>&quot;Alexan Miramar…</td><td>true</td><td>&quot;3100 SW 145th …</td><td>&quot;3100 SW 145th …</td><td>&quot;FL&quot;</td><td>&quot;Hollywood&quot;</td><td>&quot;33027&quot;</td><td>&quot;1hhbf2x7gum4y&quot;</td><td>247.0</td><td>true</td><td>false</td><td>true</td><td>false</td><td>false</td><td>true</td><td>false</td><td>null</td><td>null</td><td>null</td><td>null</td><td>null</td><td>null</td><td>null</td><td>null</td><td>null</td><td>null</td><td>null</td><td>null</td><td>null</td><td>null</td><td>null</td><td>null</td><td>null</td><td>null</td><td>null</td></tr><tr><td>&quot;25.608015--80.…</td><td>&quot;25.608015--80.…</td><td>2.0939e9</td><td>&quot;FOR_RENT&quot;</td><td>&quot;Indigo Palmett…</td><td>&quot;/apartments/pa…</td><td>[binary data]</td><td>[binary data]</td><td>[binary data]</td><td>[binary data]</td><td>&quot;Indigo Palmett…</td><td>true</td><td>&quot;9500 SW 174th …</td><td>&quot;9500 SW 174th …</td><td>&quot;FL&quot;</td><td>&quot;Miami&quot;</td><td>&quot;33157&quot;</td><td>&quot;3mqe5ankv0cs5&quot;</td><td>10.0</td><td>true</td><td>false</td><td>true</td><td>false</td><td>false</td><td>true</td><td>false</td><td>null</td><td>null</td><td>null</td><td>null</td><td>null</td><td>null</td><td>null</td><td>null</td><td>null</td><td>null</td><td>null</td><td>null</td><td>null</td><td>null</td><td>null</td><td>null</td><td>null</td><td>null</td><td>null</td></tr></tbody></table></div>"
      ],
      "text/plain": [
       "shape: (2, 45)\n",
       "┌───────────┬───────────┬──────────┬──────────┬───┬──────────┬───────────┬────────────┬────────────┐\n",
       "│ zpid      ┆ id        ┆ lotId    ┆ statusTy ┆ … ┆ hasVideo ┆ isHomeRec ┆ hasAdditio ┆ availabili │\n",
       "│ ---       ┆ ---       ┆ ---      ┆ pe       ┆   ┆ ---      ┆ ---       ┆ nalAttribu ┆ tyDate     │\n",
       "│ str       ┆ str       ┆ f64      ┆ ---      ┆   ┆ bool     ┆ bool      ┆ tions      ┆ ---        │\n",
       "│           ┆           ┆          ┆ str      ┆   ┆          ┆           ┆ ---        ┆ str        │\n",
       "│           ┆           ┆          ┆          ┆   ┆          ┆           ┆ bool       ┆            │\n",
       "╞═══════════╪═══════════╪══════════╪══════════╪═══╪══════════╪═══════════╪════════════╪════════════╡\n",
       "│ 25.980246 ┆ 25.980246 ┆ 2.0935e9 ┆ FOR_RENT ┆ … ┆ null     ┆ null      ┆ null       ┆ null       │\n",
       "│ --80.3425 ┆ --80.3425 ┆          ┆          ┆   ┆          ┆           ┆            ┆            │\n",
       "│ 6         ┆ 6         ┆          ┆          ┆   ┆          ┆           ┆            ┆            │\n",
       "│ 25.608015 ┆ 25.608015 ┆ 2.0939e9 ┆ FOR_RENT ┆ … ┆ null     ┆ null      ┆ null       ┆ null       │\n",
       "│ --80.3463 ┆ --80.3463 ┆          ┆          ┆   ┆          ┆           ┆            ┆            │\n",
       "│ 4         ┆ 4         ┆          ┆          ┆   ┆          ┆           ┆            ┆            │\n",
       "└───────────┴───────────┴──────────┴──────────┴───┴──────────┴───────────┴────────────┴────────────┘"
      ]
     },
     "execution_count": 43,
     "metadata": {},
     "output_type": "execute_result"
    }
   ],
   "source": [
    "df.head(2)"
   ]
  },
  {
   "cell_type": "code",
   "execution_count": 37,
   "metadata": {},
   "outputs": [],
   "source": [
    "len_df = len(df)"
   ]
  },
  {
   "cell_type": "code",
   "execution_count": 39,
   "metadata": {},
   "outputs": [
    {
     "data": {
      "text/plain": [
       "True"
      ]
     },
     "execution_count": 39,
     "metadata": {},
     "output_type": "execute_result"
    }
   ],
   "source": [
    "#check zpid is unique\n",
    "len(df.select(\"zpid\").unique()) == len_df"
   ]
  },
  {
   "cell_type": "code",
   "execution_count": 40,
   "metadata": {},
   "outputs": [
    {
     "data": {
      "text/plain": [
       "True"
      ]
     },
     "execution_count": 40,
     "metadata": {},
     "output_type": "execute_result"
    }
   ],
   "source": [
    "#check id is unique\n",
    "len(df.select(\"id\").unique()) == len_df\n",
    "\n",
    "#what is th"
   ]
  },
  {
   "cell_type": "code",
   "execution_count": 60,
   "metadata": {},
   "outputs": [
    {
     "data": {
      "text/html": [
       "<div><style>\n",
       ".dataframe > thead > tr > th,\n",
       ".dataframe > tbody > tr > td {\n",
       "  text-align: right;\n",
       "}\n",
       "</style>\n",
       "<small>shape: (1, 1)</small><table border=\"1\" class=\"dataframe\"><thead><tr><th>are_equal</th></tr><tr><td>bool</td></tr></thead><tbody><tr><td>true</td></tr></tbody></table></div>"
      ],
      "text/plain": [
       "shape: (1, 1)\n",
       "┌───────────┐\n",
       "│ are_equal │\n",
       "│ ---       │\n",
       "│ bool      │\n",
       "╞═══════════╡\n",
       "│ true      │\n",
       "└───────────┘"
      ]
     },
     "execution_count": 60,
     "metadata": {},
     "output_type": "execute_result"
    }
   ],
   "source": [
    "#check if both column are identical\n",
    "df.with_columns((df[\"zpid\"] == df[\"id\"]).alias(\"are_equal\")).select(\"are_equal\").unique()"
   ]
  },
  {
   "cell_type": "code",
   "execution_count": 61,
   "metadata": {},
   "outputs": [
    {
     "data": {
      "text/html": [
       "<div><style>\n",
       ".dataframe > thead > tr > th,\n",
       ".dataframe > tbody > tr > td {\n",
       "  text-align: right;\n",
       "}\n",
       "</style>\n",
       "<small>shape: (1, 2)</small><table border=\"1\" class=\"dataframe\"><thead><tr><th>statusType</th><th>counts</th></tr><tr><td>str</td><td>u32</td></tr></thead><tbody><tr><td>&quot;FOR_RENT&quot;</td><td>41</td></tr></tbody></table></div>"
      ],
      "text/plain": [
       "shape: (1, 2)\n",
       "┌────────────┬────────┐\n",
       "│ statusType ┆ counts │\n",
       "│ ---        ┆ ---    │\n",
       "│ str        ┆ u32    │\n",
       "╞════════════╪════════╡\n",
       "│ FOR_RENT   ┆ 41     │\n",
       "└────────────┴────────┘"
      ]
     },
     "execution_count": 61,
     "metadata": {},
     "output_type": "execute_result"
    }
   ],
   "source": [
    "df.groupby(\"statusType\").agg(pl.count(\"id\").alias(\"counts\"))"
   ]
  },
  {
   "cell_type": "code",
   "execution_count": 75,
   "metadata": {},
   "outputs": [],
   "source": [
    "#add url home page where its missing\n",
    "df = df.with_columns(\n",
    "        pl.when(df[\"detailUrl\"].str.starts_with(\"https://www.zillow.com/\"))\n",
    "        .then(df[\"detailUrl\"])\n",
    "        .otherwise(\"https://www.zillow.com/\" + df[\"detailUrl\"])\n",
    "        .alias(\"url\")\n",
    "        ).drop([\"detailUrl\"])"
   ]
  },
  {
   "cell_type": "code",
   "execution_count": 95,
   "metadata": {},
   "outputs": [],
   "source": [
    "df = df.with_columns(pl.col(\"latLong\").cast(pl.Utf8))"
   ]
  },
  {
   "cell_type": "code",
   "execution_count": null,
   "metadata": {},
   "outputs": [],
   "source": [
    "#need to split column"
   ]
  },
  {
   "cell_type": "code",
   "execution_count": 111,
   "metadata": {},
   "outputs": [
    {
     "data": {
      "text/plain": [
       "'{\"latitude\":25.980246,\"longitude\":-80.34256}'"
      ]
     },
     "execution_count": 111,
     "metadata": {},
     "output_type": "execute_result"
    }
   ],
   "source": [
    "df[\"latLong\"][0]"
   ]
  },
  {
   "cell_type": "code",
   "execution_count": null,
   "metadata": {},
   "outputs": [],
   "source": []
  }
 ],
 "metadata": {
  "kernelspec": {
   "display_name": "base",
   "language": "python",
   "name": "python3"
  },
  "language_info": {
   "codemirror_mode": {
    "name": "ipython",
    "version": 3
   },
   "file_extension": ".py",
   "mimetype": "text/x-python",
   "name": "python",
   "nbconvert_exporter": "python",
   "pygments_lexer": "ipython3",
   "version": "3.10.12"
  },
  "orig_nbformat": 4
 },
 "nbformat": 4,
 "nbformat_minor": 2
}
